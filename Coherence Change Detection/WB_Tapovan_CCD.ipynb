{
 "cells": [
  {
   "cell_type": "markdown",
   "metadata": {
    "id": "Q3rCZWaMmwA0"
   },
   "source": [
    "# Tapovan dam Coherence Change Detection \r",
    "This notebook serves to demonstrate the use case of the usage of the Coherence Change Detection for quick analysis.\n",
    "It has been applied on the flash flood event occurred in Tapovan Dam, Uttarakhand (India) on 7th Feb 2021d"
   ]
  },
  {
   "cell_type": "code",
   "execution_count": null,
   "metadata": {
    "cellView": "form",
    "colab": {
     "base_uri": "https://localhost:8080/"
    },
    "executionInfo": {
     "elapsed": 7270,
     "status": "ok",
     "timestamp": 1615708819345,
     "user": {
      "displayName": "Jose Manuel Delgado Blasco",
      "photoUrl": "https://lh3.googleusercontent.com/a-/AOh14Gh5j8P2H3T3H02COVZCTWLaCHVHGgsatg9zdBiyEg=s64",
      "userId": "14951989933661410163"
     },
     "user_tz": -60
    },
    "id": "iuLEwSsrp3-D",
    "outputId": "ace27980-6a04-43a4-c0c6-096af835f9e5"
   },
   "outputs": [],
   "source": [
    "#@title libraries for input data\r\n",
    "try:\r\n",
    "  import ipywidgets as widgets\r\n",
    "except:\r\n",
    "  import ipywidgets as widgets\r\n",
    "import zipfile\r\n",
    "import os\r\n",
    "import glob\r\n",
    "try:\r\n",
    "  import fiona\r\n",
    "except:\r\n",
    "  !pip install fiona\r\n",
    "  import fiona\r\n",
    "from shapely.geometry import shape"
   ]
  },
  {
   "cell_type": "markdown",
   "metadata": {
    "id": "JAOW_nIM5IU6"
   },
   "source": [
    "### Defining parameters for data discovering / processing"
   ]
  },
  {
   "cell_type": "code",
   "execution_count": 2,
   "metadata": {
    "cellView": "form",
    "colab": {
     "base_uri": "https://localhost:8080/",
     "height": 49,
     "referenced_widgets": [
      "e2a77e8de3dc40b5bb35e9bc077d7e7c",
      "fccfff5ffa944f15ad93307441c71a19",
      "0324e346a28c4b64ad414cf15856b294"
     ]
    },
    "executionInfo": {
     "elapsed": 6090,
     "status": "ok",
     "timestamp": 1615708819353,
     "user": {
      "displayName": "Jose Manuel Delgado Blasco",
      "photoUrl": "https://lh3.googleusercontent.com/a-/AOh14Gh5j8P2H3T3H02COVZCTWLaCHVHGgsatg9zdBiyEg=s64",
      "userId": "14951989933661410163"
     },
     "user_tz": -60
    },
    "id": "evWIyWls5J0v",
    "outputId": "c456a878-657d-4f8b-ddc6-232fe74ab4b9"
   },
   "outputs": [
    {
     "data": {
      "application/vnd.jupyter.widget-view+json": {
       "model_id": "e2a77e8de3dc40b5bb35e9bc077d7e7c",
       "version_major": 2,
       "version_minor": 0
      },
      "text/plain": [
       "FileUpload(value={}, accept='.zip', description='Upload')"
      ]
     },
     "metadata": {
      "tags": []
     },
     "output_type": "display_data"
    }
   ],
   "source": [
    "#@title Upload shapefile over AoI (zip format)\r\n",
    "\r\n",
    "myupload = widgets.FileUpload(\r\n",
    "    accept= '.zip', \r\n",
    "    multiple=False  \r\n",
    ")\r\n",
    "myupload"
   ]
  },
  {
   "cell_type": "code",
   "execution_count": 3,
   "metadata": {
    "cellView": "form",
    "colab": {
     "base_uri": "https://localhost:8080/",
     "height": 49,
     "referenced_widgets": [
      "4e737979d8af48c79d5431f73169efdc",
      "13098b1510a44631940527a420f62c16",
      "8c1ab298e8e940899a905e022efb9bed"
     ]
    },
    "executionInfo": {
     "elapsed": 4672,
     "status": "ok",
     "timestamp": 1615708819359,
     "user": {
      "displayName": "Jose Manuel Delgado Blasco",
      "photoUrl": "https://lh3.googleusercontent.com/a-/AOh14Gh5j8P2H3T3H02COVZCTWLaCHVHGgsatg9zdBiyEg=s64",
      "userId": "14951989933661410163"
     },
     "user_tz": -60
    },
    "id": "Ewaqks4L5Jcw",
    "outputId": "ed60bd32-35b5-4596-8179-822978e5cb72"
   },
   "outputs": [
    {
     "data": {
      "application/vnd.jupyter.widget-view+json": {
       "model_id": "4e737979d8af48c79d5431f73169efdc",
       "version_major": 2,
       "version_minor": 0
      },
      "text/plain": [
       "DatePicker(value=None, description='Start Date')"
      ]
     },
     "metadata": {
      "tags": []
     },
     "output_type": "display_data"
    }
   ],
   "source": [
    "#@title Select start date from the calendar\r\n",
    "startdate=widgets.DatePicker(\r\n",
    "    description='Start Date',\r\n",
    "    disabled=False\r\n",
    ")\r\n",
    "startdate"
   ]
  },
  {
   "cell_type": "code",
   "execution_count": 4,
   "metadata": {
    "cellView": "form",
    "colab": {
     "base_uri": "https://localhost:8080/",
     "height": 49,
     "referenced_widgets": [
      "c7f026eac2474611b65d16ffb963011b",
      "e98c5da30f4e47f5b5f38a89a249a5fb",
      "fbb799fb7c104380a6075aed79c7cc73"
     ]
    },
    "executionInfo": {
     "elapsed": 3861,
     "status": "ok",
     "timestamp": 1615708819364,
     "user": {
      "displayName": "Jose Manuel Delgado Blasco",
      "photoUrl": "https://lh3.googleusercontent.com/a-/AOh14Gh5j8P2H3T3H02COVZCTWLaCHVHGgsatg9zdBiyEg=s64",
      "userId": "14951989933661410163"
     },
     "user_tz": -60
    },
    "id": "vl--ecFk5OVH",
    "outputId": "8bc1e551-60b6-45d1-8dcb-8d3bd9072aca"
   },
   "outputs": [
    {
     "data": {
      "application/vnd.jupyter.widget-view+json": {
       "model_id": "c7f026eac2474611b65d16ffb963011b",
       "version_major": 2,
       "version_minor": 0
      },
      "text/plain": [
       "DatePicker(value=None, description='Event Date')"
      ]
     },
     "metadata": {
      "tags": []
     },
     "output_type": "display_data"
    }
   ],
   "source": [
    "#@title Select stop date as DAY AFTER THE EVENT\r\n",
    "stopdate=widgets.DatePicker(\r\n",
    "    description='Event Date',\r\n",
    "    disabled=False\r\n",
    ")\r\n",
    "stopdate"
   ]
  },
  {
   "cell_type": "markdown",
   "metadata": {
    "id": "hwHCTwrtofBO"
   },
   "source": [
    "# Installing software and preparing system"
   ]
  },
  {
   "cell_type": "markdown",
   "metadata": {
    "id": "YI__k_5FtAZS"
   },
   "source": [
    "## Installing Sentinelsat for Sentinel data download"
   ]
  },
  {
   "cell_type": "code",
   "execution_count": null,
   "metadata": {
    "cellView": "form",
    "colab": {
     "base_uri": "https://localhost:8080/"
    },
    "executionInfo": {
     "elapsed": 4241,
     "status": "ok",
     "timestamp": 1615708880708,
     "user": {
      "displayName": "Jose Manuel Delgado Blasco",
      "photoUrl": "https://lh3.googleusercontent.com/a-/AOh14Gh5j8P2H3T3H02COVZCTWLaCHVHGgsatg9zdBiyEg=s64",
      "userId": "14951989933661410163"
     },
     "user_tz": -60
    },
    "id": "M5nxUKqCmqj1",
    "outputId": "b1b736aa-0e5f-4bb5-c6a8-7cbe038c9ede"
   },
   "outputs": [],
   "source": [
    "#@title Installing sentinelsat\r\n",
    "!pip install sentinelsat\r\n",
    "from datetime import date"
   ]
  },
  {
   "cell_type": "code",
   "execution_count": null,
   "metadata": {
    "cellView": "form",
    "colab": {
     "base_uri": "https://localhost:8080/"
    },
    "executionInfo": {
     "elapsed": 605,
     "status": "ok",
     "timestamp": 1615708882562,
     "user": {
      "displayName": "Jose Manuel Delgado Blasco",
      "photoUrl": "https://lh3.googleusercontent.com/a-/AOh14Gh5j8P2H3T3H02COVZCTWLaCHVHGgsatg9zdBiyEg=s64",
      "userId": "14951989933661410163"
     },
     "user_tz": -60
    },
    "id": "lZSpWzuT5h2m",
    "outputId": "f5a1d835-4781-462a-d947-25d63089062c"
   },
   "outputs": [],
   "source": [
    "#@title Obtaining footprint from shapefile\r\n",
    "## Discovering selected file\r\n",
    "#latmin=None\r\n",
    "#lonmin=None\r\n",
    "#latmax=None\r\n",
    "#lonmax=None\r\n",
    "if len(myupload.value)>0:\r\n",
    "  print(myupload.value)\r\n",
    "  uploaded_filename = next(iter(myupload.value))\r\n",
    "  content = myupload.value[uploaded_filename]['content']\r\n",
    "  filename=myupload.metadata[0]['name']\r\n",
    "  print('#############################################')\r\n",
    "  print('Selected file: '+filename)\r\n",
    "  # Uploading file in notebook / server\r\n",
    "  print('#############################################')\r\n",
    "  print('Uploading file: '+filename)\r\n",
    "  with open(filename, 'wb') as f: f.write(content)\r\n",
    "  ## Unzipping file\r\n",
    "  print('#############################################')\r\n",
    "  print('Unzipping file: '+filename)\r\n",
    "  with zipfile.ZipFile(filename, 'r') as zip_ref:\r\n",
    "      zip_ref.extractall(os.getcwd())\r\n",
    "\r\n",
    "  ## Finding file and reading coordinates\r\n",
    "  print('#############################################')\r\n",
    "  print('Extracting Bounding Box from shapefile')\r\n",
    "  shpfile=glob.glob(os.path.join(os.getcwd(),'*.shp'))\r\n",
    "  print(shpfile)\r\n",
    "  c = fiona.open(shpfile[0])\r\n",
    "  #print(c.bounds)\r\n",
    "  lonmin,latmin,lonmax,latmax=c.bounds\r\n",
    "  #print(lonmin)\r\n",
    "  #print(latmin)\r\n",
    "  footprint='POLYGON(('+str(lonmin)+' '+str(latmin)+','+str(lonmin)+' '+str(latmax)+','+str(lonmax)+' '+str(latmax)+','+str(lonmax)+' '+str(latmin)+','+str(lonmin)+' '+str(latmin)+'))'\r\n",
    "  print('Shapefile footprint')\r\n",
    "  print(footprint)\r\n",
    "else:\r\n",
    "  while latmin is None or float(latmin)>90 or float(latmin)<-90:\r\n",
    "    print('Introduce latmin coordinate (decimal degrees)')\r\n",
    "    latmin=input()\r\n",
    "  while latmax is None or float(latmax)<=float(latmin) or float(latmax)>90 or float(latmax)<-90:\r\n",
    "    print('Introduce latmax coordinate (decimal degrees)')\r\n",
    "    latmax=input()\r\n",
    "  while lonmin is None or float(lonmin)<-180 or float(lonmin)>180:\r\n",
    "    print('Introduce lonmin coordinate (decimal degrees)')\r\n",
    "    lonmin=input()\r\n",
    "  while lonmax is None or float(lonmax)<=float(lonmin) or float(lonmax)<-180 or float(lonmax)>180:\r\n",
    "    print('Introduce lonmax coordinate (decimal degrees)')\r\n",
    "    lonmax=input()\r\n",
    "  print('Bounding Box defined by:')\r\n",
    "  print(latmin,latmax,lonmin,lonmax)\r\n",
    "#######################################\r\n",
    "# Getting startime\r\n",
    "print(startdate)\r\n",
    "if startdate.value is not None:\r\n",
    "  starttime=startdate.value.strftime('%Y%m%d')\r\n",
    "  print('#########################################')\r\n",
    "  print('Start date: '+starttime)\r\n",
    "else:\r\n",
    "  print('Introduce start time in \"YYYYMMDD\" format')\r\n",
    "  starttime=input()\r\n",
    "#######################################3\r\n",
    "## Getting stoptime\r\n",
    "if stopdate.value is not None:\r\n",
    "  stoptime=stopdate.value.strftime('%Y%m%d')\r\n",
    "  print('########################################')\r\n",
    "  print('Stop date: '+stoptime)\r\n",
    "else:\r\n",
    "  print('Introduce stop time in \"YYYYMMDD\" format')\r\n",
    "  stoptime=input()\r\n",
    "if starttime is not None and stoptime is not None:\r\n",
    "  print('Time interval selected:')\r\n",
    "  print(starttime,stoptime)\r\n",
    "  acdate=(starttime,stoptime) "
   ]
  },
  {
   "cell_type": "code",
   "execution_count": 7,
   "metadata": {
    "cellView": "form",
    "colab": {
     "base_uri": "https://localhost:8080/"
    },
    "executionInfo": {
     "elapsed": 4446,
     "status": "ok",
     "timestamp": 1615708890383,
     "user": {
      "displayName": "Jose Manuel Delgado Blasco",
      "photoUrl": "https://lh3.googleusercontent.com/a-/AOh14Gh5j8P2H3T3H02COVZCTWLaCHVHGgsatg9zdBiyEg=s64",
      "userId": "14951989933661410163"
     },
     "user_tz": -60
    },
    "id": "NE5wPSpjFLQS",
    "outputId": "da548f39-fbb9-43f8-cd3d-c606805e1e83"
   },
   "outputs": [
    {
     "name": "stdout",
     "output_type": "stream",
     "text": [
      "Select relative orbit (track)\n",
      "63\n"
     ]
    }
   ],
   "source": [
    "#@title Select relative Orbit or track (in this example track=63)\r\n",
    "print('Select relative orbit (track)')\r\n",
    "track=input()"
   ]
  },
  {
   "cell_type": "code",
   "execution_count": 8,
   "metadata": {
    "cellView": "form",
    "executionInfo": {
     "elapsed": 565,
     "status": "ok",
     "timestamp": 1615708892200,
     "user": {
      "displayName": "Jose Manuel Delgado Blasco",
      "photoUrl": "https://lh3.googleusercontent.com/a-/AOh14Gh5j8P2H3T3H02COVZCTWLaCHVHGgsatg9zdBiyEg=s64",
      "userId": "14951989933661410163"
     },
     "user_tz": -60
    },
    "id": "Ge0sWO8Jmvce"
   },
   "outputs": [],
   "source": [
    "#@title search parameters definition\r\n",
    "# Defining AoI Bounding Box\r\n",
    "#latmin=30.46\r\n",
    "#latmax=30.50\r\n",
    "#lonmin=79.6\r\n",
    "#lonmax=79.70\r\n",
    "\r\n",
    "#acdate=('20210115',date(2021,2,12))\r\n",
    "#track=63"
   ]
  },
  {
   "cell_type": "code",
   "execution_count": null,
   "metadata": {
    "colab": {
     "base_uri": "https://localhost:8080/"
    },
    "executionInfo": {
     "elapsed": 36497,
     "status": "ok",
     "timestamp": 1615712196846,
     "user": {
      "displayName": "Jose Manuel Delgado Blasco",
      "photoUrl": "https://lh3.googleusercontent.com/a-/AOh14Gh5j8P2H3T3H02COVZCTWLaCHVHGgsatg9zdBiyEg=s64",
      "userId": "14951989933661410163"
     },
     "user_tz": -60
    },
    "id": "XB6B20vHm3j3",
    "outputId": "825c1569-2e47-49e9-ef72-7e0035ba9dbf"
   },
   "outputs": [],
   "source": [
    "#@title Search and download Sentinel-1 files\r\n",
    "from sentinelsat import SentinelAPI, read_geojson, geojson_to_wkt\r\n",
    "from getpass import getpass\r\n",
    "print('Introduce credentials for data download from Copernicus Open Data Hub')\r\n",
    "print('User')\r\n",
    "user=input()\r\n",
    "print('Password')\r\n",
    "password = getpass()\r\n",
    "api = SentinelAPI(user, password)\r\n",
    "#footprint = geojson_to_wkt(read_geojson('search_polygon.geojson'))\r\n",
    "footprint='POLYGON(('+str(lonmin)+' '+str(latmin)+','+str(lonmin)+' '+str(latmax)+','+str(lonmax)+' '+str(latmax)+','+str(lonmax)+' '+str(latmin)+','+str(lonmin)+' '+str(latmin)+'))'\r\n",
    "products = api.query(footprint,\r\n",
    "                     producttype='SLC',\r\n",
    "                     date = acdate,\r\n",
    "                     relativeOrbitNumber=track)\r\n",
    "                    # orbitdirection='Descending')\r\n",
    "print(products)\r\n",
    "# Downloading the files in /content folder\r\n",
    "api.download_all(products)\r\n",
    "dataset=api.to_dataframe(products)\r\n",
    "print(dataset)"
   ]
  },
  {
   "cell_type": "markdown",
   "metadata": {
    "id": "vo74wwJPnQkL"
   },
   "source": [
    "## Installing and configuring SNAP and dependencies for Satellite data processing"
   ]
  },
  {
   "cell_type": "code",
   "execution_count": null,
   "metadata": {
    "colab": {
     "base_uri": "https://localhost:8080/"
    },
    "executionInfo": {
     "elapsed": 414943,
     "status": "ok",
     "timestamp": 1615710434929,
     "user": {
      "displayName": "Jose Manuel Delgado Blasco",
      "photoUrl": "https://lh3.googleusercontent.com/a-/AOh14Gh5j8P2H3T3H02COVZCTWLaCHVHGgsatg9zdBiyEg=s64",
      "userId": "14951989933661410163"
     },
     "user_tz": -60
    },
    "id": "EFkZirM0nVXB",
    "outputId": "d10dfc9c-518c-40d1-f1ce-104b257faeaf"
   },
   "outputs": [],
   "source": [
    "#@title Installing packages for S1 data processing\r\n",
    "!apt-get install -y libfftw3-dev libtiff5-dev gdal-bin gfortran libgfortran5 libgfortran3 jblas git\r\n",
    "# Downloading the package\r\n",
    "#!wget http://step.esa.int/downloads/8.0/installers/esa-snap_sentinel_unix_8_0.sh\r\n",
    "#!wget https://download.esa.int/step/snap/8.0/installers/esa-snap_sentinel_unix_8_0.sh \r\n",
    "!cp /content/drive/MyDrive/WB_coherence/esa-snap_sentinel_unix_8_0.sh /content/.\r\n",
    "# configuration of installation parameters for Sentinel-1 Toolbox only\r\n",
    "!TBX=esa-snap_sentinel_unix_8_0.sh ; chmod +x $TBX ; echo -e \"deleteAllSnapEngineDir\\$Boolean=false\\ndeleteOnlySnapDesktopDir\\$Boolean=false\\nexecuteLauncherWithPythonAction\\$Boolean=false\\nforcePython\\$Boolean=false\\npythonExecutable=/usr/bin/python\\nsys.adminRights\\$Boolean=true\\nsys.component.RSTB\\$Boolean=true\\nsys.component.S1TBX\\$Boolean=true\\nsys.component.S2TBX\\$Boolean=false\\nsys.component.S3TBX\\$Boolean=false\\nsys.component.SNAP\\$Boolean=true\\nsys.installationDir=\"$PWD\"/snap\\nsys.languageId=en\\nsys.programGroupDisabled\\$Boolean=false\\nsys.symlinkDir=/usr/local/bin\" >$PWD/snap.varfile ; ./$TBX -q -varfile $PWD/snap.varfile\r\n",
    "# Updating SNAP\r\n",
    "#!$PWD/snap/bin/snap --nosplash --nogui --modules --update-all\r\n",
    "# Refresh module list\r\n",
    "!$PWD/snap/bin/snap --nosplash --nogui --modules --list --refresh #2>&1 | while read -r line; do echo \"$line\" ; [ \"$line\" = \"-------------------------------------------------- -------- ----------------\" ] && sleep 2 && pkill -TERM -f \"snap/jre/bin/java\"; done\r\n",
    "# Update all modules\r\n",
    "!$PWD/snap/bin/snap --nosplash --nogui --modules --update-all 2>&1 | while read -r line; do echo \"$line\" ; [ \"$line\" = \"updates=0\" ] && sleep 2 && pkill -TERM -f \"snap/jre/bin/java\"; done\r\n",
    "# Configuring memory and parameters\r\n",
    "!echo \"-Xmx10G\" > $PWD/snap/bin/gpt.vmoptions\r\n",
    "\r\n",
    "#!cp /content/drive/My\\ Drive/WB_Coherence/snap.properties $PWD/snap/bin/."
   ]
  },
  {
   "cell_type": "code",
   "execution_count": 12,
   "metadata": {
    "cellView": "form",
    "colab": {
     "base_uri": "https://localhost:8080/"
    },
    "executionInfo": {
     "elapsed": 736,
     "status": "ok",
     "timestamp": 1615710440938,
     "user": {
      "displayName": "Jose Manuel Delgado Blasco",
      "photoUrl": "https://lh3.googleusercontent.com/a-/AOh14Gh5j8P2H3T3H02COVZCTWLaCHVHGgsatg9zdBiyEg=s64",
      "userId": "14951989933661410163"
     },
     "user_tz": -60
    },
    "id": "HedgmXwuW_CM",
    "outputId": "02fd797f-d8ee-4aff-c53a-2e2944502ff5"
   },
   "outputs": [
    {
     "name": "stdout",
     "output_type": "stream",
     "text": [
      "Writing ./snap/bin/snap.properties\n"
     ]
    }
   ],
   "source": [
    "#@title write snap.properties\r\n",
    "%%writefile ./snap/bin/snap.properties\r\n",
    "# tileCache and tileSize jai properties affect graph processing and image rendering\r\n",
    "# Tile cache size [Mb]\r\n",
    "snap.jai.tileCacheSize=8196\r\n",
    "# Default tile size in pixels\r\n",
    "snap.jai.defaultTileSize=2048\r\n",
    "# number of CPU cores used for image rendering and graph processing\r\n",
    "# allow this to default to Runtime.getRuntime().availableProcessors()\r\n",
    "#snap.parallelism = 8\r\n",
    "# Enable or disable the prefetch of tiles. Default is true.\r\n",
    "snap.jai.prefetchTiles=true"
   ]
  },
  {
   "cell_type": "code",
   "execution_count": 50,
   "metadata": {
    "cellView": "form",
    "colab": {
     "base_uri": "https://localhost:8080/"
    },
    "executionInfo": {
     "elapsed": 28254,
     "status": "ok",
     "timestamp": 1615664773379,
     "user": {
      "displayName": "Jose Manuel Delgado Blasco",
      "photoUrl": "https://lh3.googleusercontent.com/a-/AOh14Gh5j8P2H3T3H02COVZCTWLaCHVHGgsatg9zdBiyEg=s64",
      "userId": "14951989933661410163"
     },
     "user_tz": -60
    },
    "id": "wzIuWSEuZqEO",
    "outputId": "2bdca19d-d95b-42a2-cf97-715f37bf6cae"
   },
   "outputs": [
    {
     "name": "stdout",
     "output_type": "stream",
     "text": [
      "Mounted at /content/drive\n"
     ]
    }
   ],
   "source": [
    "#@title connect to Google Drive\r\n",
    "from google.colab import drive\r\n",
    "drive.mount('/content/drive')"
   ]
  },
  {
   "cell_type": "code",
   "execution_count": 66,
   "metadata": {
    "cellView": "form",
    "colab": {
     "base_uri": "https://localhost:8080/",
     "height": 119,
     "referenced_widgets": [
      "2d2775e914ee4ae6ac133132c55cd6c8",
      "f58e0c7647fb4b9fb26945081b8da6bc",
      "f232cbc2757d4b6bbd1349f71546d940",
      "f68e429998fa45a28c5ca07afb35e128",
      "73ce12fe703e45629679f0fc50ed58ae",
      "e660dbbec41048d4a0da33bd8bd0c112",
      "5d0c5340cd024427b6cebf9f9d4b3c79",
      "f089680332ab4052a702c2ebcce6324a"
     ]
    },
    "executionInfo": {
     "elapsed": 240908,
     "status": "ok",
     "timestamp": 1615666245804,
     "user": {
      "displayName": "Jose Manuel Delgado Blasco",
      "photoUrl": "https://lh3.googleusercontent.com/a-/AOh14Gh5j8P2H3T3H02COVZCTWLaCHVHGgsatg9zdBiyEg=s64",
      "userId": "14951989933661410163"
     },
     "user_tz": -60
    },
    "id": "E3Zh5UVVAT0z",
    "outputId": "7e9dab4e-f548-486e-89be-56efc081672c"
   },
   "outputs": [
    {
     "name": "stdout",
     "output_type": "stream",
     "text": [
      "Total files to copy: 3\n",
      "['/content/drive/MyDrive/WB_Coherence/Tapovan/results1/S1A_IW_SLC__1SDV_20210118T004342_20210118T004408_036185_043E36_31C5.zip', '/content/drive/MyDrive/WB_Coherence/Tapovan/results1/S1A_IW_SLC__1SDV_20210130T004341_20210130T004408_036360_04444D_13C0.zip', '/content/drive/MyDrive/WB_Coherence/Tapovan/results1/S1A_IW_SLC__1SDV_20210211T004341_20210211T004408_036535_044A5F_DDDC.zip']\n"
     ]
    },
    {
     "data": {
      "application/vnd.jupyter.widget-view+json": {
       "model_id": "2d2775e914ee4ae6ac133132c55cd6c8",
       "version_major": 2,
       "version_minor": 0
      },
      "text/plain": [
       "HBox(children=(FloatProgress(value=0.0, description='Copying files', max=3.0, style=ProgressStyle(description_…"
      ]
     },
     "metadata": {
      "tags": []
     },
     "output_type": "display_data"
    },
    {
     "name": "stdout",
     "output_type": "stream",
     "text": [
      "\n"
     ]
    }
   ],
   "source": [
    "#@title Copying Satellite original images from Google Drive if needed\r\n",
    "import glob\r\n",
    "import shutil\r\n",
    "try:\r\n",
    "  from tqdm.notebook import tqdm, trange\r\n",
    "except:\r\n",
    "  !pip install tqdm\r\n",
    "  from tqdm.notebook import tqdm, trange\r\n",
    "print('Total files to copy: '+str(len(glob.glob('/content/drive/MyDrive/WB_Coherence/Tapovan/results1/*zip'))))\r\n",
    "filelist=glob.glob('/content/drive/MyDrive/WB_Coherence/Tapovan/results1/*zip')\r\n",
    "print(filelist)\r\n",
    "for _ in trange(len(filelist),desc='Copying files'):\r\n",
    "  shutil.copy(filelist[_], '/content/')\r\n",
    "  print(filelist[_]+' successfully copied!')\r\n",
    "  #!cp /content/drive/MyDrive/WB_Coherence/Tapovan/results1/*zip ."
   ]
  },
  {
   "cell_type": "markdown",
   "metadata": {
    "id": "J7Ipn-lVoBTG"
   },
   "source": [
    "# Satellite data processing"
   ]
  },
  {
   "cell_type": "markdown",
   "metadata": {
    "id": "S0Ac0HTktE_U"
   },
   "source": [
    "## Defining satellite data processing parameters"
   ]
  },
  {
   "cell_type": "code",
   "execution_count": 17,
   "metadata": {
    "cellView": "form",
    "colab": {
     "base_uri": "https://localhost:8080/"
    },
    "executionInfo": {
     "elapsed": 638,
     "status": "ok",
     "timestamp": 1615713135300,
     "user": {
      "displayName": "Jose Manuel Delgado Blasco",
      "photoUrl": "https://lh3.googleusercontent.com/a-/AOh14Gh5j8P2H3T3H02COVZCTWLaCHVHGgsatg9zdBiyEg=s64",
      "userId": "14951989933661410163"
     },
     "user_tz": -60
    },
    "id": "ut-ukCE59pqH",
    "outputId": "cebebdf5-6b85-4e1b-db79-96708895543b"
   },
   "outputs": [
    {
     "name": "stdout",
     "output_type": "stream",
     "text": [
      "S1A_IW_SLC__1SDV_20210118T004342_20210118T004408_036185_043E36_31C5.zip\n",
      "S1A_IW_SLC__1SDV_20210130T004341_20210130T004408_036360_04444D_13C0.zip\n",
      "S1A_IW_SLC__1SDV_20210211T004341_20210211T004408_036535_044A5F_DDDC.zip\n",
      "Tapovan.zip\n"
     ]
    }
   ],
   "source": [
    "#@title list available images\r\n",
    "import glob\r\n",
    "import os\r\n",
    "images=sorted(glob.glob('/content/drive/MyDrive/WB_Coherence/Tapovan/results1/*zip'))\r\n",
    "images=sorted(glob.glob('/content/*zip'))\r\n",
    "for image in images:\r\n",
    "  print(os.path.basename(image))"
   ]
  },
  {
   "cell_type": "code",
   "execution_count": 18,
   "metadata": {
    "cellView": "form",
    "colab": {
     "base_uri": "https://localhost:8080/"
    },
    "executionInfo": {
     "elapsed": 542,
     "status": "ok",
     "timestamp": 1615713151683,
     "user": {
      "displayName": "Jose Manuel Delgado Blasco",
      "photoUrl": "https://lh3.googleusercontent.com/a-/AOh14Gh5j8P2H3T3H02COVZCTWLaCHVHGgsatg9zdBiyEg=s64",
      "userId": "14951989933661410163"
     },
     "user_tz": -60
    },
    "id": "QzWYJmcQnay0",
    "outputId": "7ceb6e59-3e8c-43ab-de4b-62ccc492683c"
   },
   "outputs": [
    {
     "name": "stdout",
     "output_type": "stream",
     "text": [
      "S1A_IW_SLC__1SDV_20210130T004341_20210130T004408_036360_04444D_13C0.zip\n",
      "['S1A_IW_SLC__1SDV_20210118T004342_20210118T004408_036185_043E36_31C5.zip', 'S1A_IW_SLC__1SDV_20210211T004341_20210211T004408_036535_044A5F_DDDC.zip']\n",
      "POLYGON((79.62536653659116 30.49149746977097,79.62536653659116 30.49481998974621,79.63243054414228 30.49481998974621,79.63243054414228 30.49149746977097,79.62536653659116 30.49149746977097))\n"
     ]
    }
   ],
   "source": [
    "#@title Defining required parameters for satellite data processing\r\n",
    "# Sentinel-1 SLC images\r\n",
    "import glob\r\n",
    "import os\r\n",
    "images=sorted(glob.glob('S1*zip'))\r\n",
    "reference=images[1]\r\n",
    "secondaries=[images[0],images[2]]\r\n",
    "print(reference)\r\n",
    "print(secondaries)\r\n",
    "\r\n",
    "# Subswath \r\n",
    "IWs='IW1'\r\n",
    "# polarisation\r\n",
    "polarisation='VV'\r\n",
    "# Defining AoI Bounding Box\r\n",
    "#latmin=30.46\r\n",
    "#latmax=30.50\r\n",
    "#lonmin=79.6\r\n",
    "#lonmax=79.70\r\n",
    "if footprint is None:\r\n",
    "  footprint='POLYGON(('+str(lonmin)+' '+str(latmax)+','+str(lonmax)+' '+str(latmax)+','+str(lonmax)+' '+str(latmin)+','+str(lonmin)+' '+str(latmin)+','+str(lonmin)+' '+str(latmax)+'))'\r\n",
    "print(footprint)\r\n",
    "\r\n",
    "# Defining graphs to be employed (Graph xml includes all steps to run using SNAP in command line)\r\n",
    "outputifgfolder=os.getcwd()\r\n",
    "graphxml=os.path.join(os.getcwd(),'WB_Coh_TC_Subset2.xml')\r\n",
    "graph2run=os.path.join(os.getcwd(),'graph2run.xml')\r\n"
   ]
  },
  {
   "cell_type": "code",
   "execution_count": 20,
   "metadata": {
    "cellView": "form",
    "colab": {
     "base_uri": "https://localhost:8080/"
    },
    "executionInfo": {
     "elapsed": 594,
     "status": "ok",
     "timestamp": 1615713171082,
     "user": {
      "displayName": "Jose Manuel Delgado Blasco",
      "photoUrl": "https://lh3.googleusercontent.com/a-/AOh14Gh5j8P2H3T3H02COVZCTWLaCHVHGgsatg9zdBiyEg=s64",
      "userId": "14951989933661410163"
     },
     "user_tz": -60
    },
    "id": "npqu5l65va6P",
    "outputId": "6f215748-0e20-448a-8849-c7c4d89d060d"
   },
   "outputs": [
    {
     "name": "stdout",
     "output_type": "stream",
     "text": [
      "Overwriting ./WB_Coh_TC_Subset2.xml\n"
     ]
    }
   ],
   "source": [
    "#@title Writing graph template for SNAP execution\n",
    "%%writefile ./WB_Coh_TC_Subset2.xml \n",
    "<graph id=\"Graph\">\n",
    "  <version>1.0</version>\n",
    "  <node id=\"Read\">\n",
    "    <operator>Read</operator>\n",
    "    <sources/>\n",
    "    <parameters class=\"com.bc.ceres.binding.dom.XppDomElement\">\n",
    "      <file>REFERENCE</file>\n",
    "    </parameters>\n",
    "  </node>\n",
    "  <node id=\"Read(2)\">\n",
    "    <operator>Read</operator>\n",
    "    <sources/>\n",
    "    <parameters class=\"com.bc.ceres.binding.dom.XppDomElement\">\n",
    "      <file>SECONDARY</file>\n",
    "    </parameters>\n",
    "  </node>\n",
    "  <node id=\"TOPSAR-Split\">\n",
    "    <operator>TOPSAR-Split</operator>\n",
    "    <sources>\n",
    "      <sourceProduct refid=\"Read\"/>\n",
    "    </sources>\n",
    "    <parameters class=\"com.bc.ceres.binding.dom.XppDomElement\">\n",
    "      <subswath>IWs</subswath>\n",
    "      <selectedPolarisations>POLARISATION</selectedPolarisations>\n",
    "      <firstBurstIndex>1</firstBurstIndex>\n",
    "      <lastBurstIndex>9</lastBurstIndex>\n",
    "      <wktAoi>POLYGON</wktAoi>\n",
    "    </parameters>\n",
    "  </node>\n",
    "  <node id=\"TOPSAR-Split(2)\">\n",
    "    <operator>TOPSAR-Split</operator>\n",
    "    <sources>\n",
    "      <sourceProduct refid=\"Read(2)\"/>\n",
    "    </sources>\n",
    "    <parameters class=\"com.bc.ceres.binding.dom.XppDomElement\">\n",
    "      <subswath>IWs</subswath>\n",
    "      <selectedPolarisations>POLARISATION</selectedPolarisations>\n",
    "      <firstBurstIndex>1</firstBurstIndex>\n",
    "      <lastBurstIndex>10</lastBurstIndex>\n",
    "      <wktAoi/>\n",
    "    </parameters>\n",
    "  </node>\n",
    "  <node id=\"Apply-Orbit-File\">\n",
    "    <operator>Apply-Orbit-File</operator>\n",
    "    <sources>\n",
    "      <sourceProduct refid=\"TOPSAR-Split\"/>\n",
    "    </sources>\n",
    "    <parameters class=\"com.bc.ceres.binding.dom.XppDomElement\">\n",
    "      <orbitType>Sentinel Precise (Auto Download)</orbitType>\n",
    "      <polyDegree>3</polyDegree>\n",
    "      <continueOnFail>false</continueOnFail>\n",
    "    </parameters>\n",
    "  </node>\n",
    "  <node id=\"Apply-Orbit-File(2)\">\n",
    "    <operator>Apply-Orbit-File</operator>\n",
    "    <sources>\n",
    "      <sourceProduct refid=\"TOPSAR-Split(2)\"/>\n",
    "    </sources>\n",
    "    <parameters class=\"com.bc.ceres.binding.dom.XppDomElement\">\n",
    "      <orbitType>Sentinel Precise (Auto Download)</orbitType>\n",
    "      <polyDegree>3</polyDegree>\n",
    "      <continueOnFail>false</continueOnFail>\n",
    "    </parameters>\n",
    "  </node>\n",
    "  <node id=\"Back-Geocoding\">\n",
    "    <operator>Back-Geocoding</operator>\n",
    "    <sources>\n",
    "      <sourceProduct refid=\"Apply-Orbit-File\"/>\n",
    "      <sourceProduct.1 refid=\"Apply-Orbit-File(2)\"/>\n",
    "    </sources>\n",
    "    <parameters class=\"com.bc.ceres.binding.dom.XppDomElement\">\n",
    "      <demName>SRTM 1Sec HGT</demName>\n",
    "      <demResamplingMethod>BILINEAR_INTERPOLATION</demResamplingMethod>\n",
    "      <externalDEMFile/>\n",
    "      <externalDEMNoDataValue>0.0</externalDEMNoDataValue>\n",
    "      <resamplingType>BISINC_21_POINT_INTERPOLATION</resamplingType>\n",
    "      <maskOutAreaWithoutElevation>true</maskOutAreaWithoutElevation>\n",
    "      <outputRangeAzimuthOffset>false</outputRangeAzimuthOffset>\n",
    "      <outputDerampDemodPhase>false</outputDerampDemodPhase>\n",
    "      <disableReramp>false</disableReramp>\n",
    "    </parameters>\n",
    "  </node>\n",
    "  <node id=\"TOPSAR-Deburst\">\n",
    "    <operator>TOPSAR-Deburst</operator>\n",
    "    <sources>\n",
    "      <sourceProduct refid=\"Coherence\"/>\n",
    "    </sources>\n",
    "    <parameters class=\"com.bc.ceres.binding.dom.XppDomElement\">\n",
    "      <selectedPolarisations>POLARISATION</selectedPolarisations>\n",
    "    </parameters>\n",
    "  </node>\n",
    "  <node id=\"Coherence\">\n",
    "    <operator>Coherence</operator>\n",
    "    <sources>\n",
    "      <sourceProduct refid=\"Back-Geocoding\"/>\n",
    "    </sources>\n",
    "    <parameters class=\"com.bc.ceres.binding.dom.XppDomElement\">\n",
    "      <cohWinAz>3</cohWinAz>\n",
    "      <cohWinRg>10</cohWinRg>\n",
    "      <subtractFlatEarthPhase>true</subtractFlatEarthPhase>\n",
    "      <srpPolynomialDegree>5</srpPolynomialDegree>\n",
    "      <srpNumberPoints>501</srpNumberPoints>\n",
    "      <orbitDegree>3</orbitDegree>\n",
    "      <squarePixel>true</squarePixel>\n",
    "      <subtractTopographicPhase>true</subtractTopographicPhase>\n",
    "      <demName>SRTM 1Sec HGT</demName>\n",
    "      <externalDEMFile/>\n",
    "      <externalDEMNoDataValue>0.0</externalDEMNoDataValue>\n",
    "      <externalDEMApplyEGM>true</externalDEMApplyEGM>\n",
    "      <tileExtensionPercent>100</tileExtensionPercent>\n",
    "      <singleMaster>true</singleMaster>\n",
    "    </parameters>\n",
    "  </node>\n",
    "  <node id=\"Terrain-Correction\">\n",
    "    <operator>Terrain-Correction</operator>\n",
    "    <sources>\n",
    "      <sourceProduct refid=\"TOPSAR-Deburst\"/>\n",
    "    </sources>\n",
    "    <parameters class=\"com.bc.ceres.binding.dom.XppDomElement\">\n",
    "      <sourceBands/>\n",
    "      <demName>SRTM 1Sec HGT</demName>\n",
    "      <externalDEMFile/>\n",
    "      <externalDEMNoDataValue>0.0</externalDEMNoDataValue>\n",
    "      <externalDEMApplyEGM>true</externalDEMApplyEGM>\n",
    "      <demResamplingMethod>BILINEAR_INTERPOLATION</demResamplingMethod>\n",
    "      <imgResamplingMethod>BILINEAR_INTERPOLATION</imgResamplingMethod>\n",
    "      <pixelSpacingInMeter>20.0</pixelSpacingInMeter>\n",
    "      <pixelSpacingInDegree>1.796630568239043E-4</pixelSpacingInDegree>\n",
    "      <mapProjection>GEOGCS[&quot;WGS84(DD)&quot;, &#xd;\n",
    "  DATUM[&quot;WGS84&quot;, &#xd;\n",
    "    SPHEROID[&quot;WGS84&quot;, 6378137.0, 298.257223563]], &#xd;\n",
    "  PRIMEM[&quot;Greenwich&quot;, 0.0], &#xd;\n",
    "  UNIT[&quot;degree&quot;, 0.017453292519943295], &#xd;\n",
    "  AXIS[&quot;Geodetic longitude&quot;, EAST], &#xd;\n",
    "  AXIS[&quot;Geodetic latitude&quot;, NORTH]]</mapProjection>\n",
    "      <alignToStandardGrid>false</alignToStandardGrid>\n",
    "      <standardGridOriginX>0.0</standardGridOriginX>\n",
    "      <standardGridOriginY>0.0</standardGridOriginY>\n",
    "      <nodataValueAtSea>true</nodataValueAtSea>\n",
    "      <saveDEM>false</saveDEM>\n",
    "      <saveLatLon>false</saveLatLon>\n",
    "      <saveIncidenceAngleFromEllipsoid>false</saveIncidenceAngleFromEllipsoid>\n",
    "      <saveLocalIncidenceAngle>false</saveLocalIncidenceAngle>\n",
    "      <saveProjectedLocalIncidenceAngle>false</saveProjectedLocalIncidenceAngle>\n",
    "      <saveSelectedSourceBand>true</saveSelectedSourceBand>\n",
    "      <outputComplex>false</outputComplex>\n",
    "      <applyRadiometricNormalization>false</applyRadiometricNormalization>\n",
    "      <saveSigmaNought>false</saveSigmaNought>\n",
    "      <saveGammaNought>false</saveGammaNought>\n",
    "      <saveBetaNought>false</saveBetaNought>\n",
    "      <incidenceAngleForSigma0>Use projected local incidence angle from DEM</incidenceAngleForSigma0>\n",
    "      <incidenceAngleForGamma0>Use projected local incidence angle from DEM</incidenceAngleForGamma0>\n",
    "      <auxFile>Latest Auxiliary File</auxFile>\n",
    "      <externalAuxFile/>\n",
    "    </parameters>\n",
    "  </node>\n",
    "  <node id=\"Subset\">\n",
    "    <operator>Subset</operator>\n",
    "    <sources>\n",
    "      <sourceProduct refid=\"Terrain-Correction\"/>\n",
    "    </sources>\n",
    "    <parameters class=\"com.bc.ceres.binding.dom.XppDomElement\">\n",
    "      <sourceBands/>\n",
    "      <region>0,0,5485,1857</region>\n",
    "      <referenceBand/>\n",
    "      <geoRegion>POLYGON</geoRegion>\n",
    "      <subSamplingX>1</subSamplingX>\n",
    "      <subSamplingY>1</subSamplingY>\n",
    "      <fullSwath>false</fullSwath>\n",
    "      <tiePointGridNames/>\n",
    "      <copyMetadata>true</copyMetadata>\n",
    "    </parameters>\n",
    "  </node>\n",
    "  <node id=\"Write\">\n",
    "    <operator>Write</operator>\n",
    "    <sources>\n",
    "      <sourceProduct refid=\"Subset\"/>\n",
    "    </sources>\n",
    "    <parameters class=\"com.bc.ceres.binding.dom.XppDomElement\">\n",
    "      <file>OUTPUTIFGFOLDER/OUTPUTFILE</file>\n",
    "      <formatName>GeoTIFF-BigTIFF</formatName>\n",
    "    </parameters>\n",
    "  </node>\n",
    "  <applicationData id=\"Presentation\">\n",
    "    <Description/>\n",
    "    <node id=\"Read\">\n",
    "      <displayPosition x=\"25.0\" y=\"13.0\"/>\n",
    "    </node>\n",
    "    <node id=\"Read(2)\">\n",
    "      <displayPosition x=\"28.0\" y=\"229.0\"/>\n",
    "    </node>\n",
    "    <node id=\"TOPSAR-Split\">\n",
    "      <displayPosition x=\"16.0\" y=\"50.0\"/>\n",
    "    </node>\n",
    "    <node id=\"TOPSAR-Split(2)\">\n",
    "      <displayPosition x=\"11.0\" y=\"194.0\"/>\n",
    "    </node>\n",
    "    <node id=\"Apply-Orbit-File\">\n",
    "      <displayPosition x=\"12.0\" y=\"84.0\"/>\n",
    "    </node>\n",
    "    <node id=\"Apply-Orbit-File(2)\">\n",
    "      <displayPosition x=\"6.0\" y=\"160.0\"/>\n",
    "    </node>\n",
    "    <node id=\"Back-Geocoding\">\n",
    "      <displayPosition x=\"116.0\" y=\"123.0\"/>\n",
    "    </node>\n",
    "    <node id=\"TOPSAR-Deburst\">\n",
    "      <displayPosition x=\"339.0\" y=\"124.0\"/>\n",
    "    </node>\n",
    "    <node id=\"Coherence\">\n",
    "      <displayPosition x=\"241.0\" y=\"125.0\"/>\n",
    "    </node>\n",
    "    <node id=\"Terrain-Correction\">\n",
    "      <displayPosition x=\"491.0\" y=\"123.0\"/>\n",
    "    </node>\n",
    "    <node id=\"Subset\">\n",
    "      <displayPosition x=\"678.0\" y=\"126.0\"/>\n",
    "    </node>\n",
    "    <node id=\"Write\">\n",
    "      <displayPosition x=\"804.0\" y=\"124.0\"/>\n",
    "    </node>\n",
    "  </applicationData>\n",
    "</graph>\n"
   ]
  },
  {
   "cell_type": "markdown",
   "metadata": {
    "id": "zzUntMC4sx4y"
   },
   "source": [
    "## Launching the SNAP data processing (Coherence computation)"
   ]
  },
  {
   "cell_type": "code",
   "execution_count": 21,
   "metadata": {
    "cellView": "form",
    "colab": {
     "base_uri": "https://localhost:8080/"
    },
    "executionInfo": {
     "elapsed": 1068680,
     "status": "ok",
     "timestamp": 1615714617577,
     "user": {
      "displayName": "Jose Manuel Delgado Blasco",
      "photoUrl": "https://lh3.googleusercontent.com/a-/AOh14Gh5j8P2H3T3H02COVZCTWLaCHVHGgsatg9zdBiyEg=s64",
      "userId": "14951989933661410163"
     },
     "user_tz": -60
    },
    "id": "lMw24J9ur3Pp",
    "outputId": "7a5ce96a-a7ec-4f5c-c938-4ddd440a1485"
   },
   "outputs": [
    {
     "name": "stdout",
     "output_type": "stream",
     "text": [
      "['/content/snap/bin/gpt', '/content/graph2run.xml', '-c', '8G', '-q', '16']\n",
      "INFO: org.esa.snap.core.gpf.operators.tooladapter.ToolAdapterIO: Initializing external tool adapters\n",
      "INFO: org.esa.snap.core.util.EngineVersionCheckActivator: Please check regularly for new updates for the best SNAP experience.\n",
      "Executing processing graph\n",
      "INFO: org.esa.s1tbx.commons.io.ImageIOFile: Using FileCacheImageInputStream\n",
      "INFO: org.esa.s1tbx.commons.io.ImageIOFile: Using FileCacheImageInputStream\n",
      "INFO: org.esa.s1tbx.commons.io.ImageIOFile: Using FileCacheImageInputStream\n",
      "INFO: org.esa.s1tbx.commons.io.ImageIOFile: Using FileCacheImageInputStream\n",
      "INFO: org.esa.s1tbx.commons.io.ImageIOFile: Using FileCacheImageInputStream\n",
      "INFO: org.hsqldb.persist.Logger: dataFileCache open start\n",
      "INFO: org.esa.snap.engine_utilities.download.DownloadableContentImpl: http retrieving http://step.esa.int/auxdata/orbits/Sentinel-1/POEORB/S1A/2021/01/S1A_OPER_AUX_POEORB_OPOD_20210218T121733_V20210128T225942_20210130T005942.EOF.zip\n",
      "INFO: org.esa.snap.engine_utilities.download.DownloadableContentImpl: http retrieving http://step.esa.int/auxdata/orbits/Sentinel-1/POEORB/S1A/2021/01/S1A_OPER_AUX_POEORB_OPOD_20210206T122355_V20210116T225942_20210118T005942.EOF.zip\n",
      ".13%.27%.41%.55%.69%.79%INFO: org.esa.snap.dataio.bigtiff.BigGeoTiffProductWriter: writing to output file /content/20210130_20210118_IW1.tif\n",
      ".89%INFO: org.esa.snap.core.dataop.dem.ElevationFile: http retrieving http://step.esa.int/auxdata/dem/SRTMGL1/N30E079.SRTMGL1.hgt.zip\n",
      "INFO: org.esa.snap.engine_utilities.download.DownloadableContentImpl: http retrieving http://step.esa.int/auxdata/dem/egm96/ww15mgh_b.zip\n",
      "INFO: org.esa.snap.core.dataop.dem.ElevationFile: http retrieving http://step.esa.int/auxdata/dem/SRTMGL1/N30E080.SRTMGL1.hgt.zip\n",
      "done.\n",
      "-- org.jblas INFO Deleting /tmp/jblas1690750556664794722/libjblas_arch_flavor.so\n",
      "-- org.jblas INFO Deleting /tmp/jblas1690750556664794722/libjblas.so\n",
      "-- org.jblas INFO Deleting /tmp/jblas1690750556664794722/libgfortran-4.so\n",
      "-- org.jblas INFO Deleting /tmp/jblas1690750556664794722/libquadmath-0.so\n",
      "-- org.jblas INFO Deleting /tmp/jblas1690750556664794722\n",
      "Processing completed in 3.819865083983344 minutes\n",
      "['/content/snap/bin/gpt', '/content/graph2run.xml', '-c', '8G', '-q', '16']\n",
      "INFO: org.esa.snap.core.gpf.operators.tooladapter.ToolAdapterIO: Initializing external tool adapters\n",
      "INFO: org.esa.snap.core.util.EngineVersionCheckActivator: Please check regularly for new updates for the best SNAP experience.\n",
      "Executing processing graph\n",
      "INFO: org.hsqldb.persist.Logger: dataFileCache open start\n",
      "INFO: org.esa.snap.engine_utilities.download.DownloadableContentImpl: http retrieving http://step.esa.int/auxdata/orbits/Sentinel-1/POEORB/S1A/2021/02/S1A_OPER_AUX_POEORB_OPOD_20210302T121801_V20210209T225942_20210211T005942.EOF.zip\n",
      ".13%.27%.41%.55%.69%.79%INFO: org.esa.snap.dataio.bigtiff.BigGeoTiffProductWriter: writing to output file /content/20210130_20210211_IW1.tif\n",
      ".89% done.\n",
      "-- org.jblas INFO Deleting /tmp/jblas1830128317565382483/libjblas_arch_flavor.so\n",
      "-- org.jblas INFO Deleting /tmp/jblas1830128317565382483/libjblas.so\n",
      "-- org.jblas INFO Deleting /tmp/jblas1830128317565382483/libgfortran-4.so\n",
      "-- org.jblas INFO Deleting /tmp/jblas1830128317565382483/libquadmath-0.so\n",
      "-- org.jblas INFO Deleting /tmp/jblas1830128317565382483\n",
      "Processing completed in 7.367973266216677 minutes\n"
     ]
    }
   ],
   "source": [
    "#@title Executing SNAP processing\r\n",
    "import time\r\n",
    "import os\r\n",
    "import subprocess\r\n",
    "\r\n",
    "startproc=time.perf_counter()\r\n",
    "for secondary in secondaries:\r\n",
    "  outputname=os.path.basename(reference)[17:25]+'_'+os.path.basename(secondary)[17:25]+'_'+IWs+'.tif'\r\n",
    "  if not os.path.exists(outputname) and not os.path.isfile(outputname):\r\n",
    "    with open(graphxml, 'r') as file :\r\n",
    "        filedata = file.read()\r\n",
    "    # Replace the target string\r\n",
    "    filedata = filedata.replace('REFERENCE',reference)\r\n",
    "    filedata = filedata.replace('SECONDARY', secondary)\r\n",
    "    filedata = filedata.replace('OUTPUTIFGFOLDER', outputifgfolder)\r\n",
    "    filedata = filedata.replace('OUTPUTFILE',outputname)\r\n",
    "    filedata = filedata.replace('POLYGON',footprint)\r\n",
    "    filedata = filedata.replace('POLARISATION',polarisation)\r\n",
    "    filedata = filedata.replace('IWs',IWs)\r\n",
    "    # Write the file out again\r\n",
    "    with open(graph2run, 'w') as file:\r\n",
    "        file.write(filedata)\r\n",
    "    args = [os.path.join(os.getcwd(),'snap','bin','gpt'), graph2run, '-c', '8G', '-q', '16']\r\n",
    "    print(args)\r\n",
    "    # Launch the processing\r\n",
    "    #timeStarted = time.time()\r\n",
    "    process = subprocess.Popen(args,shell=False,stdout=subprocess.PIPE,stderr=subprocess.STDOUT)\r\n",
    "\r\n",
    "    # Poll process.stdout to show stdout live\r\n",
    "    while True:\r\n",
    "      output = process.stdout.readline()\r\n",
    "      if process.poll() is not None:\r\n",
    "        break\r\n",
    "      if output:\r\n",
    "        print (output.strip().decode('utf-8'))\r\n",
    "    rc = process.poll()\r\n",
    "\r\n",
    "    #timeDelta = time.time() - timeStarted                     # Get execution time.\r\n",
    "    #print('Finished process in '+str(timeDelta)+' seconds.')\r\n",
    "\r\n",
    "    stopproc=time.perf_counter()\r\n",
    "    proctime=(stopproc-startproc)/60\r\n",
    "    print('Processing completed in '+str(proctime)+' minutes')"
   ]
  },
  {
   "cell_type": "markdown",
   "metadata": {
    "id": "ZjY0Fe4FaBgP"
   },
   "source": [
    "# Visualising results in map"
   ]
  },
  {
   "cell_type": "code",
   "execution_count": 22,
   "metadata": {
    "cellView": "form",
    "executionInfo": {
     "elapsed": 1083,
     "status": "ok",
     "timestamp": 1615714730926,
     "user": {
      "displayName": "Jose Manuel Delgado Blasco",
      "photoUrl": "https://lh3.googleusercontent.com/a-/AOh14Gh5j8P2H3T3H02COVZCTWLaCHVHGgsatg9zdBiyEg=s64",
      "userId": "14951989933661410163"
     },
     "user_tz": -60
    },
    "id": "OHCBIFT8aBHg"
   },
   "outputs": [],
   "source": [
    "#@title Importing needed modules\n",
    "import folium\n",
    "from folium import plugins\n",
    "#from scipy.ndimage import imread\n",
    "import glob"
   ]
  },
  {
   "cell_type": "code",
   "execution_count": 23,
   "metadata": {
    "cellView": "form",
    "executionInfo": {
     "elapsed": 682,
     "status": "ok",
     "timestamp": 1615714730933,
     "user": {
      "displayName": "Jose Manuel Delgado Blasco",
      "photoUrl": "https://lh3.googleusercontent.com/a-/AOh14Gh5j8P2H3T3H02COVZCTWLaCHVHGgsatg9zdBiyEg=s64",
      "userId": "14951989933661410163"
     },
     "user_tz": -60
    },
    "id": "LYyCCWKvdaD7"
   },
   "outputs": [],
   "source": [
    "#@title definition of quicklook generation function\r\n",
    "# function definition of quicklook generation\r\n",
    "from datetime import datetime\r\n",
    "import time\r\n",
    "from subprocess import Popen,PIPE,STDOUT\r\n",
    "\r\n",
    "def quicklook_gen(image): #,colormap):\r\n",
    "    now = datetime.now()\r\n",
    "    tmpfolder=os.getcwd()\r\n",
    "    cmd=['./snap/bin/pconvert','-b','1',image,'-f','png','-o',tmpfolder]\r\n",
    "    print('#########################')\r\n",
    "    print('Creating browse image')\r\n",
    "    timeStarted = time.time()\r\n",
    "    process = Popen(cmd, stdout=PIPE, stderr=STDOUT)\r\n",
    "    r = b\"\"\r\n",
    "    for line in process.stdout:\r\n",
    "        r += line\r\n",
    "        print(str(line))\r\n",
    "    process.wait()\r\n",
    "    timeDelta = time.time() - timeStarted                     # Get execution time.\r\n",
    "    print('Finished process in '+str(timeDelta)+' seconds.')\r\n",
    "    if process.returncode != 0 :\r\n",
    "        message='Error creating browse image'\r\n",
    "    else:\r\n",
    "        message='Browse image successfully completed.'\r\n",
    "        print( message)"
   ]
  },
  {
   "cell_type": "code",
   "execution_count": 24,
   "metadata": {
    "cellView": "form",
    "colab": {
     "base_uri": "https://localhost:8080/"
    },
    "executionInfo": {
     "elapsed": 14441,
     "status": "ok",
     "timestamp": 1615714746265,
     "user": {
      "displayName": "Jose Manuel Delgado Blasco",
      "photoUrl": "https://lh3.googleusercontent.com/a-/AOh14Gh5j8P2H3T3H02COVZCTWLaCHVHGgsatg9zdBiyEg=s64",
      "userId": "14951989933661410163"
     },
     "user_tz": -60
    },
    "id": "BqYcJf_vdrsO",
    "outputId": "b2905d2a-edce-4da4-9258-ce863ab59e40"
   },
   "outputs": [
    {
     "name": "stdout",
     "output_type": "stream",
     "text": [
      "['/content/20210130_20210118_IW1.tif', '/content/20210130_20210211_IW1.tif']\n",
      "Generating quicklook of file:/content/20210130_20210118_IW1.tif\n",
      "#########################\n",
      "Creating browse image\n",
      "b'INFO: org.esa.snap.core.gpf.operators.tooladapter.ToolAdapterIO: Initializing external tool adapters\\n'\n",
      "b'INFO: org.esa.snap.core.util.EngineVersionCheckActivator: Please check regularly for new updates for the best SNAP experience.\\n'\n",
      "b'reading file /content/20210130_20210118_IW1.tif\\n'\n",
      "b'INFO: org.hsqldb.persist.Logger: dataFileCache open start\\n'\n",
      "b\"creating histogram for band 'coh_IW1_VV_30Jan2021_18Jan2021'...\\n\"\n",
      "b'creating RGB image...\\n'\n",
      "b\"writing RGB image to '/content/20210130_20210118_IW1.png'...\\n\"\n",
      "Finished process in 7.278155326843262 seconds.\n",
      "Browse image successfully completed.\n",
      "Generating quicklook of file:/content/20210130_20210211_IW1.tif\n",
      "#########################\n",
      "Creating browse image\n",
      "b'INFO: org.esa.snap.core.gpf.operators.tooladapter.ToolAdapterIO: Initializing external tool adapters\\n'\n",
      "b'INFO: org.esa.snap.core.util.EngineVersionCheckActivator: Please check regularly for new updates for the best SNAP experience.\\n'\n",
      "b'reading file /content/20210130_20210211_IW1.tif\\n'\n",
      "b'INFO: org.hsqldb.persist.Logger: dataFileCache open start\\n'\n",
      "b\"creating histogram for band 'coh_IW1_VV_30Jan2021_11Feb2021'...\\n\"\n",
      "b'creating RGB image...\\n'\n",
      "b\"writing RGB image to '/content/20210130_20210211_IW1.png'...\\n\"\n",
      "Finished process in 6.460435628890991 seconds.\n",
      "Browse image successfully completed.\n"
     ]
    }
   ],
   "source": [
    "#@title creating browse images \r\n",
    "images=glob.glob(os.path.join(os.getcwd(),'2*.tif'))\r\n",
    "print(images)\r\n",
    "for file in images:\r\n",
    "    print('Generating quicklook of file:'+file)\r\n",
    "    quicklook_gen(file)#,None)"
   ]
  },
  {
   "cell_type": "code",
   "execution_count": 33,
   "metadata": {
    "executionInfo": {
     "elapsed": 621,
     "status": "ok",
     "timestamp": 1615714921285,
     "user": {
      "displayName": "Jose Manuel Delgado Blasco",
      "photoUrl": "https://lh3.googleusercontent.com/a-/AOh14Gh5j8P2H3T3H02COVZCTWLaCHVHGgsatg9zdBiyEg=s64",
      "userId": "14951989933661410163"
     },
     "user_tz": -60
    },
    "id": "kmQgVrZAaaIX"
   },
   "outputs": [],
   "source": [
    "#@title visualising function definition\r\n",
    "def visualising(images,tag_names):\r\n",
    "    file=images[0]\r\n",
    "    print(file[:-4]+'.tif')\r\n",
    "    src=rio.open(file[:-4]+'.tif')\r\n",
    "    BBOX=src.bounds\r\n",
    "    print(BBOX)\r\n",
    "    ymin=BBOX[1]\r\n",
    "    xmin=BBOX[0]\r\n",
    "    ymax=BBOX[3]\r\n",
    "    xmax=BBOX[2]\r\n",
    "    ymean=(ymax+ymin)/2\r\n",
    "    xmean=(xmax+xmin)/2\r\n",
    "\r\n",
    "    ymean=30.493636\r\n",
    "    xmean=79.629\r\n",
    "\r\n",
    "    #m = folium.Map([ymean, xmean], zoom_start=20, tiles='stamenterrain',crs='EPSG3857')\r\n",
    "    token = 'pk.eyJ1Ijoiam9zZW1hbnVlbGRlbGdhZG9ibGFzY28iLCJhIjoiY2tjdGxkcGMzMGZqMjJzbnRzN3hzZGFpNSJ9.OAiDxye2w6didAUn2DnJRw'\r\n",
    "    # your mapbox token\r\n",
    "    tileurl = 'https://api.mapbox.com/v4/mapbox.satellite/{z}/{x}/{y}@2x.png?access_token=' + str(token)\r\n",
    "\r\n",
    "    m = folium.Map(location=[ymean, xmean], zoom_start=15,tiles=None)\r\n",
    "    folium.TileLayer(tileurl, name='myMapbox',attr='Mapbox').add_to(m)\r\n",
    "    #merc = os.path.join(file)\r\n",
    "    k=0\r\n",
    "    for merc in images:\r\n",
    "        if not os.path.isfile(merc):\r\n",
    "            print(f'Could not find {merc}')\r\n",
    "        else:\r\n",
    "            img = folium.raster_layers.ImageOverlay(\r\n",
    "                name=tag_names[k],\r\n",
    "        #        image=band,\r\n",
    "                image=merc,\r\n",
    "                bounds=[[ymin, xmin], [ymax, xmax]],\r\n",
    "                opacity=0.6,\r\n",
    "                interactive=True,\r\n",
    "                cross_origin=False,\r\n",
    "                zindex=1,\r\n",
    "            )   \r\n",
    "            img.add_to(m)\r\n",
    "        k=k+1\r\n",
    "    jsonfile='/content/drive/MyDrive/WB_Coherence/Tapovan/Tapovan_Dam.geojson'\r\n",
    "    gjson = folium.GeoJson(jsonfile,name='Tapovan Dam').add_to(m)\r\n",
    "    \r\n",
    "    folium.LayerControl().add_to(m)\r\n",
    "    m.save(os.path.join(os.getcwd(), 'SNAP_S1_CCC_Tapovan.html'))\r\n",
    "    return m"
   ]
  },
  {
   "cell_type": "code",
   "execution_count": 34,
   "metadata": {
    "cellView": "form",
    "colab": {
     "base_uri": "https://localhost:8080/",
     "height": 790
    },
    "executionInfo": {
     "elapsed": 1380,
     "status": "ok",
     "timestamp": 1615714923133,
     "user": {
      "displayName": "Jose Manuel Delgado Blasco",
      "photoUrl": "https://lh3.googleusercontent.com/a-/AOh14Gh5j8P2H3T3H02COVZCTWLaCHVHGgsatg9zdBiyEg=s64",
      "userId": "14951989933661410163"
     },
     "user_tz": -60
    },
    "id": "zp_oCrNObONF",
    "outputId": "0a8bca80-9fb6-4953-8598-b9786b3d45fe"
   },
   "outputs": [
    {
     "name": "stdout",
     "output_type": "stream",
     "text": [
      "/content/20210130_20210118_IW1.tif\n",
      "BoundingBox(left=79.62523033807757, bottom=30.49146566417301, right=79.63259652340736, top=30.494879262252663)\n",
      "1\n",
      "['30.493442', '79.629040']\n"
     ]
    },
    {
     "data": {
      "text/html": [
       "<div style=\"width:100%;\"><div style=\"position:relative;width:100%;height:0;padding-bottom:60%;\"><span style=\"color:#565656\">Make this Notebook Trusted to load map: File -> Trust Notebook</span><iframe src=\"about:blank\" style=\"position:absolute;width:100%;height:100%;left:0;top:0;border:none !important;\" data-html=%3C%21DOCTYPE%20html%3E%0A%3Chead%3E%20%20%20%20%0A%20%20%20%20%3Cmeta%20http-equiv%3D%22content-type%22%20content%3D%22text/html%3B%20charset%3DUTF-8%22%20/%3E%0A%20%20%20%20%3Cscript%3EL_PREFER_CANVAS%3Dfalse%3B%20L_NO_TOUCH%3Dfalse%3B%20L_DISABLE_3D%3Dfalse%3B%3C/script%3E%0A%20%20%20%20%3Cscript%20src%3D%22https%3A//cdn.jsdelivr.net/npm/leaflet%401.4.0/dist/leaflet.js%22%3E%3C/script%3E%0A%20%20%20%20%3Cscript%20src%3D%22https%3A//code.jquery.com/jquery-1.12.4.min.js%22%3E%3C/script%3E%0A%20%20%20%20%3Cscript%20src%3D%22https%3A//maxcdn.bootstrapcdn.com/bootstrap/3.2.0/js/bootstrap.min.js%22%3E%3C/script%3E%0A%20%20%20%20%3Cscript%20src%3D%22https%3A//cdnjs.cloudflare.com/ajax/libs/Leaflet.awesome-markers/2.0.2/leaflet.awesome-markers.js%22%3E%3C/script%3E%0A%20%20%20%20%3Clink%20rel%3D%22stylesheet%22%20href%3D%22https%3A//cdn.jsdelivr.net/npm/leaflet%401.4.0/dist/leaflet.css%22/%3E%0A%20%20%20%20%3Clink%20rel%3D%22stylesheet%22%20href%3D%22https%3A//maxcdn.bootstrapcdn.com/bootstrap/3.2.0/css/bootstrap.min.css%22/%3E%0A%20%20%20%20%3Clink%20rel%3D%22stylesheet%22%20href%3D%22https%3A//maxcdn.bootstrapcdn.com/bootstrap/3.2.0/css/bootstrap-theme.min.css%22/%3E%0A%20%20%20%20%3Clink%20rel%3D%22stylesheet%22%20href%3D%22https%3A//maxcdn.bootstrapcdn.com/font-awesome/4.6.3/css/font-awesome.min.css%22/%3E%0A%20%20%20%20%3Clink%20rel%3D%22stylesheet%22%20href%3D%22https%3A//cdnjs.cloudflare.com/ajax/libs/Leaflet.awesome-markers/2.0.2/leaflet.awesome-markers.css%22/%3E%0A%20%20%20%20%3Clink%20rel%3D%22stylesheet%22%20href%3D%22https%3A//rawcdn.githack.com/python-visualization/folium/master/folium/templates/leaflet.awesome.rotate.css%22/%3E%0A%20%20%20%20%3Cstyle%3Ehtml%2C%20body%20%7Bwidth%3A%20100%25%3Bheight%3A%20100%25%3Bmargin%3A%200%3Bpadding%3A%200%3B%7D%3C/style%3E%0A%20%20%20%20%3Cstyle%3E%23map%20%7Bposition%3Aabsolute%3Btop%3A0%3Bbottom%3A0%3Bright%3A0%3Bleft%3A0%3B%7D%3C/style%3E%0A%20%20%20%20%0A%20%20%20%20%3Cmeta%20name%3D%22viewport%22%20content%3D%22width%3Ddevice-width%2C%0A%20%20%20%20%20%20%20%20initial-scale%3D1.0%2C%20maximum-scale%3D1.0%2C%20user-scalable%3Dno%22%20/%3E%0A%20%20%20%20%3Cstyle%3E%23map_afd00b45453c4dcf8caf47692d795999%20%7B%0A%20%20%20%20%20%20%20%20position%3A%20relative%3B%0A%20%20%20%20%20%20%20%20width%3A%20100.0%25%3B%0A%20%20%20%20%20%20%20%20height%3A%20100.0%25%3B%0A%20%20%20%20%20%20%20%20left%3A%200.0%25%3B%0A%20%20%20%20%20%20%20%20top%3A%200.0%25%3B%0A%20%20%20%20%20%20%20%20%7D%0A%20%20%20%20%3C/style%3E%0A%20%20%20%20%3Cstyle%3E%0A%20%20%20%20%20%20%20%20.leaflet-image-layer%20%7B%0A%20%20%20%20%20%20%20%20image-rendering%3A%20-webkit-optimize-contrast%3B%20/%2A%20old%20android/safari%2A/%0A%20%20%20%20%20%20%20%20image-rendering%3A%20crisp-edges%3B%20/%2A%20safari%20%2A/%0A%20%20%20%20%20%20%20%20image-rendering%3A%20pixelated%3B%20/%2A%20chrome%20%2A/%0A%20%20%20%20%20%20%20%20image-rendering%3A%20-moz-crisp-edges%3B%20/%2A%20firefox%20%2A/%0A%20%20%20%20%20%20%20%20image-rendering%3A%20-o-crisp-edges%3B%20/%2A%20opera%20%2A/%0A%20%20%20%20%20%20%20%20-ms-interpolation-mode%3A%20nearest-neighbor%3B%20/%2A%20ie%20%2A/%0A%20%20%20%20%20%20%20%20%7D%0A%20%20%20%20%20%20%20%20%3C/style%3E%0A%3C/head%3E%0A%3Cbody%3E%20%20%20%20%0A%20%20%20%20%0A%20%20%20%20%3Cdiv%20class%3D%22folium-map%22%20id%3D%22map_afd00b45453c4dcf8caf47692d795999%22%20%3E%3C/div%3E%0A%3C/body%3E%0A%3Cscript%3E%20%20%20%20%0A%20%20%20%20%0A%20%20%20%20%0A%20%20%20%20%20%20%20%20var%20bounds%20%3D%20null%3B%0A%20%20%20%20%0A%0A%20%20%20%20var%20map_afd00b45453c4dcf8caf47692d795999%20%3D%20L.map%28%0A%20%20%20%20%20%20%20%20%27map_afd00b45453c4dcf8caf47692d795999%27%2C%20%7B%0A%20%20%20%20%20%20%20%20center%3A%20%5B30.493636%2C%2079.629%5D%2C%0A%20%20%20%20%20%20%20%20zoom%3A%2015%2C%0A%20%20%20%20%20%20%20%20maxBounds%3A%20bounds%2C%0A%20%20%20%20%20%20%20%20layers%3A%20%5B%5D%2C%0A%20%20%20%20%20%20%20%20worldCopyJump%3A%20false%2C%0A%20%20%20%20%20%20%20%20crs%3A%20L.CRS.EPSG3857%2C%0A%20%20%20%20%20%20%20%20zoomControl%3A%20true%2C%0A%20%20%20%20%20%20%20%20%7D%29%3B%0A%0A%0A%20%20%20%20%0A%20%20%20%20var%20tile_layer_aed45020386142d88e39931cf6a1a626%20%3D%20L.tileLayer%28%0A%20%20%20%20%20%20%20%20%27https%3A//api.mapbox.com/v4/mapbox.satellite/%7Bz%7D/%7Bx%7D/%7By%7D%402x.png%3Faccess_token%3Dpk.eyJ1Ijoiam9zZW1hbnVlbGRlbGdhZG9ibGFzY28iLCJhIjoiY2tjdGxkcGMzMGZqMjJzbnRzN3hzZGFpNSJ9.OAiDxye2w6didAUn2DnJRw%27%2C%0A%20%20%20%20%20%20%20%20%7B%0A%20%20%20%20%20%20%20%20%22attribution%22%3A%20%22Mapbox%22%2C%0A%20%20%20%20%20%20%20%20%22detectRetina%22%3A%20false%2C%0A%20%20%20%20%20%20%20%20%22maxNativeZoom%22%3A%2018%2C%0A%20%20%20%20%20%20%20%20%22maxZoom%22%3A%2018%2C%0A%20%20%20%20%20%20%20%20%22minZoom%22%3A%200%2C%0A%20%20%20%20%20%20%20%20%22noWrap%22%3A%20false%2C%0A%20%20%20%20%20%20%20%20%22opacity%22%3A%201%2C%0A%20%20%20%20%20%20%20%20%22subdomains%22%3A%20%22abc%22%2C%0A%20%20%20%20%20%20%20%20%22tms%22%3A%20false%0A%7D%29.addTo%28map_afd00b45453c4dcf8caf47692d795999%29%3B%0A%20%20%20%20%0A%20%20%20%20%20%20%20%20%20%20%20%20%20%20%20%20var%20image_overlay_b5eacaa587cb4811a7434c9ffc917922%20%3D%20L.imageOverlay%28%0A%20%20%20%20%20%20%20%20%20%20%20%20%20%20%20%20%20%20%20%20%27data%3Aimage/png%3Bbase64%2CiVBORw0KGgoAAAANSUhEUgAAACkAAAATCAYAAAANgSQ9AAAGs0lEQVR42k2WR0xVaxSFF55r771gV6zYS8SCHaIQQCXBaAgxJmp0ok6ME3MdWCZqFE2IaIwJhgHBEidiNFiw9957b6goduHdb%2BXdl/cnJ3DP%2Bc/ea6%2B99vpPTHZ2dnXdunWVkZGh5s2b6%2BLFi/rx44d%2B/fqlY8eOqW/fvurRo4c%2Bf/7sZ5MmTdKAAQO8Ny8vTw0aNPBzfl%2B4cEH9%2BvXTmDFjFASBjh49qvv376tFixZ6/fq1bt%2B%2BrSFDhmjy5Mn68uWL3r59q%2B/fv%2BvVq1fasGGDGjdu7Dxt27bVnDlzVFFRoREjRigYOnRouLq6WhGwatWqlSorK53w9%2B/fAvyHDx9UWlqqM2fOKD4%2BXuy9ceOGDh06pDp16vidI0eOuLDWrVvr3r17qqqqUnl5uXr27Klz5855TygUcqy/f//qz58/fvfr168mo0%2BfPmrWrJljsHh/2LBhatOmjfcGW7ZsCdeuXVufPn3S8%2BfPdf36dVcybtw4M0ACAvB/ZmamatSoofPnz5tlqkxNTTWYkydP6uXLly4EdpcvX262KJrCmjRpojdv3ujp06fe16hRIwMCRGxsrNq3b6%2BmTZuqf//%2BateunTp16uT7FBakp6eHY2JidPr0abeCqtj04MEDB3jx4oUDwlJkrzp37mzQZWVl4j1%2BP3z4UNOnTzdwntEBgPF79uzZTlRSUqIrV66ofv36unr1qlniglniUAAYANurVy%2B3HqlcvnxZITQxaNAgjR07VuvWrdOJEyfUpUsXa6pr164Gxgu0hwVoili8eLHBkxi9TZkyRTNmzFCHDh3UsWNHt27Tpk3WZU5Ojt6/f6%2B9e/eqZcuW1iHvjBw50nFpOfqjA%2B/evfM9OkP3%2BD%2BIPAzv3r1bhYWFbjl6pE0kgyUqLCoqsibv3LmjhIQEt5AC0E5E05o6daoZYsEg79arV0/du3fXxo0bLZlbt25p2rRp2rFjh3PQGUCg1bt373qIiAsJUclBwrNnzxREpjWMpk6dOqVv3765jWwgCKzyf2JiorKysqwrBgIgaHPgwIHWEazXrFnTQBgiNL5r1y5P6oEDByybmzdvejhxCEBS3Pr16/%2BTFN1EJvv27XPniAkp7A0idIYByE2YadiwocefCuPi4jR%2B/HgNHz7cLeICKDr6%2BPGjW8o0o9%2BCggJPPYu/JKAQisQpAAPD3Lt27ZpGjx5tDR4%2BfNjxKGLixIlmlE6iTQghbghRczFN%2BBV%2BifipDGaZZKYRAUctBN0AuFatWq6e96JWQlFMfXFxsVlMTk52d7p162bmYBD9Axp/RU4/f/70kKWkpFhGMLtq1SoTR74Q5ksSGNm5c6ctBABQjkYRMCJHN9xftGiR2UYOtJ2ByM3NtckDkGJZ6Au3gGWSUSwap51olOS9e/f2IJEfvXI4MIDEpWA0yRVEboRBzynBZhZBYYhhoDXQjr8tXLjQjKBFql27dq22bdvm5CSGYTS3Zs0aOwTWQoz8/Hw9efLEwAYPHmyjBgzvUBimDim0e/PmzfZKQDKwkBCsWLEiTGvxOUR/8OBBA6XlVMFfkhEQVtEtDM2bN8%2B6mTVrlvdxEKxevdpWQgu5mPBHjx5ZZ0gD4NyHFIAiLe7RGY5UYtN6ZIKLsA/PDM2cOdPCxmLQ0vz5893as2fPWkMca9H208rjx4%2B7OhigOArgPucyw4DWAEcsGGZPUlKSh4lpRzr4IRpmiFg4BPLhvQULFrirEMBpRndD%2BBhVMrVURwUkQ0u0BgvYvn27mUICeCIBeRlWCEZyhM9ULlmyxANBTBjCmugArKB7Pk5gl8JhDqAMJccwLkJMtEqxyAwsQeSUCVMVdkBiquLCaPFPji60hn2kpaW5PRxXVA17JOcZ4BE8LGHAAKAwGGQvydE3Hyu4BjmxOAqkExTFLFy6dMkaxWshhXsh2KN6RM1wYBFMNVoEAHpDf9GFDY0aNcpA8EIWzACONlEgRxnJKIiF3ikEZniGo9BKwBOfoYJZ8uO/dHXZsmXW6YQJExRENoUZBKwHe6Eyf3n8e3Zj6v9fMECVsMYZzrDs2bPH7YF54mA3AECvaBtdsheAEMK7fOFEv1n57EP7dA0CkFrU5AEdWrp0qX8AisXoMxhsxMSpCnaii8QwjZYoBs0yVOxBMlu3bjVjdIKPE04cWEen5OHo5EME1ph6BpHC0COy2r9/v1auXOmYaByLC9F/qGbCCQwA2Hz8%2BLFbFAVIAADyycWJET3eAESrsSjuwRLuQOvRFM8ZGEDNnTvXuSgOEBx5kARYvpYgJmpv0U6g138AHcdVkYAyO7EAAAAASUVORK5CYII%3D%27%2C%0A%20%20%20%20%20%20%20%20%20%20%20%20%20%20%20%20%20%20%20%20%5B%5B30.49146566417301%2C%2079.62523033807757%5D%2C%20%5B30.494879262252663%2C%2079.63259652340736%5D%5D%2C%0A%20%20%20%20%20%20%20%20%20%20%20%20%20%20%20%20%20%20%20%20%7B%0A%20%20%22alt%22%3A%20%22%22%2C%0A%20%20%22className%22%3A%20%22%22%2C%0A%20%20%22crossOrigin%22%3A%20false%2C%0A%20%20%22errorOverlayUrl%22%3A%20%22%22%2C%0A%20%20%22interactive%22%3A%20true%2C%0A%20%20%22opacity%22%3A%200.6%2C%0A%20%20%22zIndex%22%3A%201%0A%7D%0A%20%20%20%20%20%20%20%20%20%20%20%20%20%20%20%20%20%20%20%20%29.addTo%28map_afd00b45453c4dcf8caf47692d795999%29%3B%0A%20%20%20%20%20%20%20%20%20%20%20%20%0A%20%20%20%20%0A%20%20%20%20%20%20%20%20%20%20%20%20%20%20%20%20var%20image_overlay_4bc815cd2dd04f7698a930859f77a05e%20%3D%20L.imageOverlay%28%0A%20%20%20%20%20%20%20%20%20%20%20%20%20%20%20%20%20%20%20%20%27data%3Aimage/png%3Bbase64%2CiVBORw0KGgoAAAANSUhEUgAAACkAAAATCAYAAAANgSQ9AAAGLElEQVR42j3WNe8VXRAG8IF7cXd3d3cNEKCBQAIFDYFARcI3oLgVBR2hoSYBCmiAEFxDcHd3d4L7%2B//Nm%2BUkm92795w588jM2WotWrT4O2fOnOjRo0f06dMn/v79G8uXL8/nP3/%2BxLt376JOnTrRpUuXePjwYVy9ejUaN24c7du3j48fP8b8%2BfPjzZs3OXfUqFHRvXv3ePLkSbx48SIOHz4cv3//joEDB0avXr3i9OnTOW/06NHRqlWrnGPujx8/4tmzZ3HlypWMMWjQoPj69WsMHz48Hj9%2BHKW6detWTpw4EcePH49Hjx7FwYMHo2bNmlEulzMRi/v27RtV8%2BLixYvRoEGDaNOmTezfvz8aNmwYO3bsiK5du%2Bb88%2BfPZ1L9%2B/ePo0ePRqNGjeLnz58xduzYKJVK0a1btwTctGnTBP3gwYO4fPlygrx7926cPXs2FixYkOA/f/6ceQwYMCBKI0eOrLx%2B/Tpq166dm9evXz/atm2b6K5du5bBPderVy%2BqWI9OnTqFgfFmzZrF0qVLE9yxY8eS/SNHjsSWLVuSCevfvn0bNWrUiG/fvkXr1q0TGFC3bt1Kpu1dvXr1OHDgQN7nzp0bO3fujA8fPuSeT58%2BjVIV6gokmBg2bFjcvHkzZT158mQmKIjNoOrXr19usn79%2BqgCF7Vq1UpGMH7mzJm8evbsmaqQ0/OnT5/i1KlTce7cuZSPIsD%2B%2BvUr5UXK4MGDk2VssgY7VatWLdWibGnixImVxYsXx5gxYzIxkvIP70hCQM8CFGxLHCtYxeirV69i27ZtCWLXrl3J7qFDh5LN6dOnx71793K%2BhFu2bJnyAm3tly9fMo5L/D179iRA1759%2B5LRMqOjniwWMq3EoGnSpEl6RrARI0Yks4D4n7es4yvJeAcUpnmLZVigc%2BfO0aFDh5Qbczw9YcKEtAzA9%2B/fz%2BKx1j6AYBEwfva%2B3K5du5Rg1apVqb/norqgMmno0KFpBZbYvHlzGluykEsWGBsqGkl07NgxN1MgmOVBNlIU3plnPYCYxFZRpGRHFiXYDollyF3jx49P89pAVQoqgXnz5iVLvCHo7du3cy4vQax4Xr58mYljdsWKFamKd%2BLZ0GbmK6AbN24kSxhWcJcuXYopU6Ykm4CxQpUFsyXyuDilJUuWVMgILUn4De3v37%2BP69ev5111u0iDNeyqROswAYwktDLeUxQqV4%2BTDIWKwa8stHHjxmwvFAAeGKpKDknsZr0%2BXaqivoIBLyGGVvYXLlxI6V0Sx6DNGVpQFQ%2BExCXBg6QhGSlVMstYo%2Bfx9PPnz7N/AsqfgCtYpJgnFrDNmzfPmEDLp1TlkYpFAin5O3fu5GTeYgMAJD979uxMgn8YGmqnzeTJkzMoxv0HnI0kRD4J8BsLKBi%2BJrdr0qRJmQgA/E1%2B81nLXMqqh9KaNWsqJNKrbIR2kgiGdr0OKnMwh1G/yeyIBI6PnErfv3/P/mlDrYZUbKG6i%2BZvnWeAXKxinTtieFTy/DxjxowEWNqwYUMmuWnTpux3CmDhwoUZ3OYuVoDS5tOmTcuEsYVFVb9s2bIYMmRI%2Bo9P/W%2B9eNggveID2CkiSYqRUlLuisRdXJahjuFgKHsgN08pf7KaKCg2SYYtCWgdkoBac9dOVKL3wLELH7KDuzVA6puzZs36V/WSEVuM4nAw176AOJ2A2L17d7bDUqVq2BhaLyyGnqmdAioZKlKhXhBJYkmBaFnm8a25mBLHhpIGwDtqYEt8lnKKkZ4SQLBb0eLYQD34MNm%2Bffv/THrJf4bNVTR/FGczZkjk7vKOvN4ZrACICvWphUXDJx%2Bwe/fuTVYkar0OoQ35WmILSipQyffu3TuBbN269d/nXxmaIkFDcqTDVjEwNm7cuAxCmmJo5po31D4MNHlSqnDFIobEfR2JWRyFKpv0Ykm%2BOCbN0xWQhCDgEVL2ohgCkgkCQdwlrfUUw/98Rsa1a9emZMWHqv/IXrBbeMxRKo5GjTWV71mrmzlzZibC2ypa0fhY0eIwzoZlCIsvEtVrSAL9NveeTMVgapbAgo1tQAkMmSsJ6zHLAitXrsy%2Bx1KrV6/O/0gMnBY1derUf61JPEQtWrQo42iJ69ati/8AVp9JPWCiNWAAAAAASUVORK5CYII%3D%27%2C%0A%20%20%20%20%20%20%20%20%20%20%20%20%20%20%20%20%20%20%20%20%5B%5B30.49146566417301%2C%2079.62523033807757%5D%2C%20%5B30.494879262252663%2C%2079.63259652340736%5D%5D%2C%0A%20%20%20%20%20%20%20%20%20%20%20%20%20%20%20%20%20%20%20%20%7B%0A%20%20%22alt%22%3A%20%22%22%2C%0A%20%20%22className%22%3A%20%22%22%2C%0A%20%20%22crossOrigin%22%3A%20false%2C%0A%20%20%22errorOverlayUrl%22%3A%20%22%22%2C%0A%20%20%22interactive%22%3A%20true%2C%0A%20%20%22opacity%22%3A%200.6%2C%0A%20%20%22zIndex%22%3A%201%0A%7D%0A%20%20%20%20%20%20%20%20%20%20%20%20%20%20%20%20%20%20%20%20%29.addTo%28map_afd00b45453c4dcf8caf47692d795999%29%3B%0A%20%20%20%20%20%20%20%20%20%20%20%20%0A%20%20%20%20%0A%20%20%20%20%20%20%20%20var%20geo_json_caf49266fa484ebbbe26422a0e068e9c%20%3D%20L.geoJson%28%0A%20%20%20%20%20%20%20%20%20%20%20%20%7B%22crs%22%3A%20%7B%22properties%22%3A%20%7B%22name%22%3A%20%22urn%3Aogc%3Adef%3Acrs%3AOGC%3A1.3%3ACRS84%22%7D%2C%20%22type%22%3A%20%22name%22%7D%2C%20%22features%22%3A%20%5B%7B%22geometry%22%3A%20%7B%22coordinates%22%3A%20%5B%5B%5B79.62536653659116%2C%2030.49266913325062%5D%2C%20%5B79.62876440919608%2C%2030.49185252554406%5D%2C%20%5B79.62909282161782%2C%2030.49274771769404%5D%2C%20%5B79.62983768614258%2C%2030.4928858175983%5D%2C%20%5B79.63142213764924%2C%2030.49174913026968%5D%2C%20%5B79.63243054414228%2C%2030.49149746977097%5D%2C%20%5B79.63234610239381%2C%2030.49244508502481%5D%2C%20%5B79.6318154720474%2C%2030.4925909862037%5D%2C%20%5B79.63099589699057%2C%2030.49301485391278%5D%2C%20%5B79.63023962028208%2C%2030.49340666883156%5D%2C%20%5B79.62980456791708%2C%2030.4936821425521%5D%2C%20%5B79.62890677061617%2C%2030.49420164316973%5D%2C%20%5B79.6278190766329%2C%2030.49452999508015%5D%2C%20%5B79.62693094100187%2C%2030.49481998974621%5D%2C%20%5B79.62595634637799%2C%2030.49473365427317%5D%2C%20%5B79.62536653659116%2C%2030.49266913325062%5D%5D%5D%2C%20%22type%22%3A%20%22Polygon%22%7D%2C%20%22properties%22%3A%20%7B%22Name%22%3A%20%22Tapovan%20Dam%22%2C%20%22description%22%3A%20null%2C%20%22highlight%22%3A%20%7B%7D%2C%20%22style%22%3A%20%7B%7D%2C%20%22tessellate%22%3A%201%7D%2C%20%22type%22%3A%20%22Feature%22%7D%5D%2C%20%22name%22%3A%20%22Tapovan%20Dam%22%2C%20%22type%22%3A%20%22FeatureCollection%22%7D%2C%0A%20%20%20%20%20%20%20%20%20%20%20%20%7B%0A%20%20%20%20%20%20%20%20%20%20%20%20%7D%0A%20%20%20%20%20%20%20%20%29.addTo%28map_afd00b45453c4dcf8caf47692d795999%20%29%3B%0A%20%20%20%20%20%20%20%20geo_json_caf49266fa484ebbbe26422a0e068e9c.setStyle%28function%28feature%29%20%7Breturn%20feature.properties.style%3B%7D%29%3B%0A%20%20%20%20%20%20%20%20%0A%20%20%20%20%0A%20%20%20%20%20%20%20%20%20%20%20%20var%20layer_control_5c713afcc85d486885afaf9919a915ac%20%3D%20%7B%0A%20%20%20%20%20%20%20%20%20%20%20%20%20%20%20%20base_layers%20%3A%20%7B%20%22myMapbox%22%20%3A%20tile_layer_aed45020386142d88e39931cf6a1a626%2C%20%7D%2C%0A%20%20%20%20%20%20%20%20%20%20%20%20%20%20%20%20overlays%20%3A%20%7B%20%22Pre-event1%22%20%3A%20image_overlay_b5eacaa587cb4811a7434c9ffc917922%2C%22Post-event%22%20%3A%20image_overlay_4bc815cd2dd04f7698a930859f77a05e%2C%22Tapovan%20Dam%22%20%3A%20geo_json_caf49266fa484ebbbe26422a0e068e9c%2C%20%7D%0A%20%20%20%20%20%20%20%20%20%20%20%20%20%20%20%20%7D%3B%0A%20%20%20%20%20%20%20%20%20%20%20%20L.control.layers%28%0A%20%20%20%20%20%20%20%20%20%20%20%20%20%20%20%20layer_control_5c713afcc85d486885afaf9919a915ac.base_layers%2C%0A%20%20%20%20%20%20%20%20%20%20%20%20%20%20%20%20layer_control_5c713afcc85d486885afaf9919a915ac.overlays%2C%0A%20%20%20%20%20%20%20%20%20%20%20%20%20%20%20%20%7Bposition%3A%20%27topright%27%2C%0A%20%20%20%20%20%20%20%20%20%20%20%20%20%20%20%20%20collapsed%3A%20true%2C%0A%20%20%20%20%20%20%20%20%20%20%20%20%20%20%20%20%20autoZIndex%3A%20true%0A%20%20%20%20%20%20%20%20%20%20%20%20%20%20%20%20%7D%29.addTo%28map_afd00b45453c4dcf8caf47692d795999%29%3B%0A%20%20%20%20%20%20%20%20%20%20%20%20%0A%20%20%20%20%20%20%20%20%0A%20%20%20%20%0A%20%20%20%20%20%20%20%20var%20marker_5ea215e2befd4899b03894ba3b2ece4d%20%3D%20L.marker%28%0A%20%20%20%20%20%20%20%20%20%20%20%20%5B30.493442%2C%2079.62904%5D%2C%0A%20%20%20%20%20%20%20%20%20%20%20%20%7B%0A%20%20%20%20%20%20%20%20%20%20%20%20%20%20%20%20icon%3A%20new%20L.Icon.Default%28%29%2C%0A%20%20%20%20%20%20%20%20%20%20%20%20%20%20%20%20%7D%0A%20%20%20%20%20%20%20%20%20%20%20%20%29.addTo%28map_afd00b45453c4dcf8caf47692d795999%29%3B%0A%20%20%20%20%20%20%20%20%0A%20%20%20%20%0A%20%20%20%20%20%20%20%20%20%20%20%20var%20popup_cd969653e9914fbb8bf323b1f95b5a76%20%3D%20L.popup%28%7BmaxWidth%3A%20%27100%25%27%0A%20%20%20%20%20%20%20%20%20%20%20%20%0A%20%20%20%20%20%20%20%20%20%20%20%20%7D%29%3B%0A%0A%20%20%20%20%20%20%20%20%20%20%20%20%0A%20%20%20%20%20%20%20%20%20%20%20%20%20%20%20%20var%20html_aeae3e8c09b84ee38ccc7a65058bf8ad%20%3D%20%24%28%60%3Cdiv%20id%3D%22html_aeae3e8c09b84ee38ccc7a65058bf8ad%22%20style%3D%22width%3A%20100.0%25%3B%20height%3A%20100.0%25%3B%22%3ETapovan%20Dam%20Uttarakhand%20%28India%29%3C/div%3E%60%29%5B0%5D%3B%0A%20%20%20%20%20%20%20%20%20%20%20%20%20%20%20%20popup_cd969653e9914fbb8bf323b1f95b5a76.setContent%28html_aeae3e8c09b84ee38ccc7a65058bf8ad%29%3B%0A%20%20%20%20%20%20%20%20%20%20%20%20%0A%0A%20%20%20%20%20%20%20%20%20%20%20%20marker_5ea215e2befd4899b03894ba3b2ece4d.bindPopup%28popup_cd969653e9914fbb8bf323b1f95b5a76%29%0A%20%20%20%20%20%20%20%20%20%20%20%20%3B%0A%0A%20%20%20%20%20%20%20%20%20%20%20%20%0A%20%20%20%20%20%20%20%20%0A%3C/script%3E onload=\"this.contentDocument.open();this.contentDocument.write(    decodeURIComponent(this.getAttribute('data-html')));this.contentDocument.close();\" allowfullscreen webkitallowfullscreen mozallowfullscreen></iframe></div></div>"
      ],
      "text/plain": [
       "<folium.folium.Map at 0x7fdad0d87690>"
      ]
     },
     "execution_count": 34,
     "metadata": {
      "tags": []
     },
     "output_type": "execute_result"
    }
   ],
   "source": [
    "#@title Visualising resulting products\r\n",
    "try:\r\n",
    "  import rasterio as rio\r\n",
    "except:\r\n",
    "  !pip install rasterio\r\n",
    "  import rasterio as rio\r\n",
    "import folium\r\n",
    "# Visualising images in the map\r\n",
    "images=sorted(glob.glob(os.path.join(os.getcwd(),'*png')))\r\n",
    "tags=['Pre-event1','Post-event']\r\n",
    "m=visualising(images,tags)\r\n",
    "\r\n",
    "import pandas as pd\r\n",
    "# Adding point to map\r\n",
    "id = [0]\r\n",
    "name = ['Tapovan dam']\r\n",
    "latitude = ['30.493442']\r\n",
    "longitude = ['79.629040']\r\n",
    "region = ['Uttarakhand (India)']\r\n",
    "df_counters = pd.DataFrame(\r\n",
    "    {'ID' : id,\r\n",
    "     'Name' : name,\r\n",
    "     'latitude' : latitude,\r\n",
    "     'longitude' : longitude,\r\n",
    "     'region' : region\r\n",
    "    })\r\n",
    "df_counters.head()\r\n",
    "locations = df_counters[['latitude', 'longitude']]\r\n",
    "locationlist = locations.values.tolist()\r\n",
    "print(len(locationlist))\r\n",
    "print(locationlist[0])\r\n",
    "\r\n",
    "folium.Marker([30.493442, 79.629040], popup='Tapovan Dam\\n'+'Uttarakhand (India)').add_to(m)\r\n",
    "\r\n",
    "m"
   ]
  },
  {
   "cell_type": "code",
   "execution_count": 82,
   "metadata": {
    "cellView": "form",
    "colab": {
     "base_uri": "https://localhost:8080/"
    },
    "executionInfo": {
     "elapsed": 1195,
     "status": "ok",
     "timestamp": 1615668653403,
     "user": {
      "displayName": "Jose Manuel Delgado Blasco",
      "photoUrl": "https://lh3.googleusercontent.com/a-/AOh14Gh5j8P2H3T3H02COVZCTWLaCHVHGgsatg9zdBiyEg=s64",
      "userId": "14951989933661410163"
     },
     "user_tz": -60
    },
    "id": "TIdZqnULdOox",
    "outputId": "3495ea33-5306-4caf-f5fb-2cfc2875ddf6"
   },
   "outputs": [
    {
     "name": "stdout",
     "output_type": "stream",
     "text": [
      "['/content/drive/MyDrive/WB_Coherence/Tapovan/results1/20210130_20210118_IW1.tif', '/content/drive/MyDrive/WB_Coherence/Tapovan/results1/20210130_20210211_IW1.tif']\n",
      "/content/drive/MyDrive/WB_Coherence/Tapovan/results1/20210130_20210118_IW1.tif\n"
     ]
    },
    {
     "name": "stderr",
     "output_type": "stream",
     "text": [
      "/usr/local/lib/python3.7/dist-packages/rasterstats/io.py:302: UserWarning: Setting nodata to -999; specify nodata explicitly\n",
      "  warnings.warn(\"Setting nodata to -999; specify nodata explicitly\")\n"
     ]
    },
    {
     "name": "stdout",
     "output_type": "stream",
     "text": [
      "[{'median': 0.5013766884803772}]\n",
      "/content/drive/MyDrive/WB_Coherence/Tapovan/results1/20210130_20210211_IW1.tif\n",
      "[{'median': 0.2735366225242615}]\n"
     ]
    }
   ],
   "source": [
    "#@title computing average coherence within Tapovan geojson\r\n",
    "import glob\r\n",
    "try:\r\n",
    "  import rasterstats\r\n",
    "except:\r\n",
    "  !pip install rasterstats\r\n",
    "  from rasterstats import zonal_stats\r\n",
    "#import fiona\r\n",
    "images=sorted(glob.glob('/content/drive/MyDrive/WB_Coherence/Tapovan/results1/2*tif'))\r\n",
    "print(images)\r\n",
    "shapefile='/content/drive/MyDrive/WB_Coherence/Tapovan/Tapovan_Dam.geojson'\r\n",
    "#shape = fiona.open(shapefile)\r\n",
    "for image in images:\r\n",
    "  print(image)\r\n",
    "  #zonal_stats(shapefile, image, stats=\"count min mean max median\")\r\n",
    "  result=zonal_stats(shapefile, image, stats=\"median\")\r\n",
    "  print(result)"
   ]
  },
  {
   "cell_type": "markdown",
   "metadata": {
    "id": "JSnUzEIJt-ML"
   },
   "source": [
    "## Connecting Google drive"
   ]
  },
  {
   "cell_type": "code",
   "execution_count": 32,
   "metadata": {
    "colab": {
     "base_uri": "https://localhost:8080/"
    },
    "executionInfo": {
     "elapsed": 26431,
     "status": "ok",
     "timestamp": 1615714905833,
     "user": {
      "displayName": "Jose Manuel Delgado Blasco",
      "photoUrl": "https://lh3.googleusercontent.com/a-/AOh14Gh5j8P2H3T3H02COVZCTWLaCHVHGgsatg9zdBiyEg=s64",
      "userId": "14951989933661410163"
     },
     "user_tz": -60
    },
    "id": "rbVp1zJnuBYO",
    "outputId": "597eaea9-b5c4-4405-b6ac-823a08c57df2"
   },
   "outputs": [
    {
     "name": "stdout",
     "output_type": "stream",
     "text": [
      "Mounted at /content/drive\n"
     ]
    }
   ],
   "source": [
    "from google.colab import drive\r\n",
    "drive.mount('/content/drive')"
   ]
  },
  {
   "cell_type": "markdown",
   "metadata": {
    "id": "UPga3YxNffvV"
   },
   "source": [
    "# Saving all the results in the Google Drive folder"
   ]
  },
  {
   "cell_type": "code",
   "execution_count": null,
   "metadata": {
    "colab": {
     "base_uri": "https://localhost:8080/"
    },
    "executionInfo": {
     "elapsed": 45297,
     "status": "ok",
     "timestamp": 1613943574734,
     "user": {
      "displayName": "Jose Manuel Delgado Blasco",
      "photoUrl": "https://lh3.googleusercontent.com/a-/AOh14Gh5j8P2H3T3H02COVZCTWLaCHVHGgsatg9zdBiyEg=s64",
      "userId": "14951989933661410163"
     },
     "user_tz": -60
    },
    "id": "W5LfcnADfjIX",
    "outputId": "0ed71fc2-ea1f-4174-c549-4fd92199b121"
   },
   "outputs": [
    {
     "name": "stdout",
     "output_type": "stream",
     "text": [
      "Copying from Google Colab to my Google Drive\n",
      "cp: cannot create regular file '/content/drive/My Drive/WB_Coherence/Tapovan/results/./S1A_IW_SLC__1SDV_20201201T004344_20201201T004411_035485_0425F7_506D.zip': Input/output error\n",
      "cp: cannot create regular file '/content/drive/My Drive/WB_Coherence/Tapovan/results/./S1A_IW_SLC__1SDV_20201213T004343_20201213T004410_035660_042BF9_3E3C.zip': Input/output error\n",
      "cp: cannot create regular file '/content/drive/My Drive/WB_Coherence/Tapovan/results/./S1A_IW_SLC__1SDV_20201225T004343_20201225T004410_035835_0431FD_77CC.zip': Input/output error\n",
      "cp: cannot create regular file '/content/drive/My Drive/WB_Coherence/Tapovan/results/./S1A_IW_SLC__1SDV_20210106T004342_20210106T004409_036010_043816_98BF.zip': Input/output error\n",
      "cp: cannot create regular file '/content/drive/My Drive/WB_Coherence/Tapovan/results/./S1A_IW_SLC__1SDV_20210118T004342_20210118T004408_036185_043E36_31C5.zip': Input/output error\n",
      "cp: cannot create regular file '/content/drive/My Drive/WB_Coherence/Tapovan/results/./S1A_IW_SLC__1SDV_20210130T004341_20210130T004408_036360_04444D_13C0.zip': Input/output error\n",
      "cp: cannot create regular file '/content/drive/My Drive/WB_Coherence/Tapovan/results/./S1A_IW_SLC__1SDV_20210211T004341_20210211T004408_036535_044A5F_DDDC.zip': Input/output error\n",
      "Copy completed\n"
     ]
    }
   ],
   "source": [
    "# Copying Results to the Google Drive folder\r\n",
    "print('Copying from Google Colab to my Google Drive')\r\n",
    "!cp $PWD/*zip /content/drive/My\\ Drive/WB_Coherence/Tapovan/results/.\r\n",
    "print('Copy completed')"
   ]
  },
  {
   "cell_type": "code",
   "execution_count": null,
   "metadata": {
    "id": "as5ttyibdljV"
   },
   "outputs": [],
   "source": []
  }
 ],
 "metadata": {
  "colab": {
   "authorship_tag": "ABX9TyOUq3OduIWaHEfUsWhaw1tr",
   "collapsed_sections": [],
   "name": "WB_Tapovan_Use_Case_CCC.ipynb",
   "provenance": [
    {
     "file_id": "1qRbhLAd6iMRODe6-R2vt6JzvncP6hSMX",
     "timestamp": 1615660781971
    },
    {
     "file_id": "18AflZ-NJ2_BsLijolnn9dq87t__dsvhZ",
     "timestamp": 1613747766640
    },
    {
     "file_id": "1P9NCt8skRGh9EPC4dW2JdvKe_fNr-rFW",
     "timestamp": 1613742179071
    }
   ]
  },
  "kernelspec": {
   "display_name": "Python 3",
   "language": "python",
   "name": "python3"
  },
  "language_info": {
   "codemirror_mode": {
    "name": "ipython",
    "version": 3
   },
   "file_extension": ".py",
   "mimetype": "text/x-python",
   "name": "python",
   "nbconvert_exporter": "python",
   "pygments_lexer": "ipython3",
   "version": "3.7.6"
  },
  "widgets": {
   "application/vnd.jupyter.widget-state+json": {
    "0324e346a28c4b64ad414cf15856b294": {
     "model_module": "@jupyter-widgets/base",
     "model_name": "LayoutModel",
     "state": {
      "_model_module": "@jupyter-widgets/base",
      "_model_module_version": "1.2.0",
      "_model_name": "LayoutModel",
      "_view_count": null,
      "_view_module": "@jupyter-widgets/base",
      "_view_module_version": "1.2.0",
      "_view_name": "LayoutView",
      "align_content": null,
      "align_items": null,
      "align_self": null,
      "border": null,
      "bottom": null,
      "display": null,
      "flex": null,
      "flex_flow": null,
      "grid_area": null,
      "grid_auto_columns": null,
      "grid_auto_flow": null,
      "grid_auto_rows": null,
      "grid_column": null,
      "grid_gap": null,
      "grid_row": null,
      "grid_template_areas": null,
      "grid_template_columns": null,
      "grid_template_rows": null,
      "height": null,
      "justify_content": null,
      "justify_items": null,
      "left": null,
      "margin": null,
      "max_height": null,
      "max_width": null,
      "min_height": null,
      "min_width": null,
      "object_fit": null,
      "object_position": null,
      "order": null,
      "overflow": null,
      "overflow_x": null,
      "overflow_y": null,
      "padding": null,
      "right": null,
      "top": null,
      "visibility": null,
      "width": null
     }
    },
    "13098b1510a44631940527a420f62c16": {
     "model_module": "@jupyter-widgets/controls",
     "model_name": "DescriptionStyleModel",
     "state": {
      "_model_module": "@jupyter-widgets/controls",
      "_model_module_version": "1.5.0",
      "_model_name": "DescriptionStyleModel",
      "_view_count": null,
      "_view_module": "@jupyter-widgets/base",
      "_view_module_version": "1.2.0",
      "_view_name": "StyleView",
      "description_width": ""
     }
    },
    "2d2775e914ee4ae6ac133132c55cd6c8": {
     "model_module": "@jupyter-widgets/controls",
     "model_name": "HBoxModel",
     "state": {
      "_dom_classes": [],
      "_model_module": "@jupyter-widgets/controls",
      "_model_module_version": "1.5.0",
      "_model_name": "HBoxModel",
      "_view_count": null,
      "_view_module": "@jupyter-widgets/controls",
      "_view_module_version": "1.5.0",
      "_view_name": "HBoxView",
      "box_style": "",
      "children": [
       "IPY_MODEL_f232cbc2757d4b6bbd1349f71546d940",
       "IPY_MODEL_f68e429998fa45a28c5ca07afb35e128"
      ],
      "layout": "IPY_MODEL_f58e0c7647fb4b9fb26945081b8da6bc"
     }
    },
    "4e737979d8af48c79d5431f73169efdc": {
     "model_module": "@jupyter-widgets/controls",
     "model_name": "DatePickerModel",
     "state": {
      "_dom_classes": [],
      "_model_module": "@jupyter-widgets/controls",
      "_model_module_version": "1.5.0",
      "_model_name": "DatePickerModel",
      "_view_count": null,
      "_view_module": "@jupyter-widgets/controls",
      "_view_module_version": "1.5.0",
      "_view_name": "DatePickerView",
      "description": "Start Date",
      "description_tooltip": null,
      "disabled": false,
      "layout": "IPY_MODEL_8c1ab298e8e940899a905e022efb9bed",
      "style": "IPY_MODEL_13098b1510a44631940527a420f62c16",
      "value": {
       "date": 14,
       "month": 0,
       "year": 2021
      }
     }
    },
    "5d0c5340cd024427b6cebf9f9d4b3c79": {
     "model_module": "@jupyter-widgets/controls",
     "model_name": "DescriptionStyleModel",
     "state": {
      "_model_module": "@jupyter-widgets/controls",
      "_model_module_version": "1.5.0",
      "_model_name": "DescriptionStyleModel",
      "_view_count": null,
      "_view_module": "@jupyter-widgets/base",
      "_view_module_version": "1.2.0",
      "_view_name": "StyleView",
      "description_width": ""
     }
    },
    "73ce12fe703e45629679f0fc50ed58ae": {
     "model_module": "@jupyter-widgets/controls",
     "model_name": "ProgressStyleModel",
     "state": {
      "_model_module": "@jupyter-widgets/controls",
      "_model_module_version": "1.5.0",
      "_model_name": "ProgressStyleModel",
      "_view_count": null,
      "_view_module": "@jupyter-widgets/base",
      "_view_module_version": "1.2.0",
      "_view_name": "StyleView",
      "bar_color": null,
      "description_width": "initial"
     }
    },
    "8c1ab298e8e940899a905e022efb9bed": {
     "model_module": "@jupyter-widgets/base",
     "model_name": "LayoutModel",
     "state": {
      "_model_module": "@jupyter-widgets/base",
      "_model_module_version": "1.2.0",
      "_model_name": "LayoutModel",
      "_view_count": null,
      "_view_module": "@jupyter-widgets/base",
      "_view_module_version": "1.2.0",
      "_view_name": "LayoutView",
      "align_content": null,
      "align_items": null,
      "align_self": null,
      "border": null,
      "bottom": null,
      "display": null,
      "flex": null,
      "flex_flow": null,
      "grid_area": null,
      "grid_auto_columns": null,
      "grid_auto_flow": null,
      "grid_auto_rows": null,
      "grid_column": null,
      "grid_gap": null,
      "grid_row": null,
      "grid_template_areas": null,
      "grid_template_columns": null,
      "grid_template_rows": null,
      "height": null,
      "justify_content": null,
      "justify_items": null,
      "left": null,
      "margin": null,
      "max_height": null,
      "max_width": null,
      "min_height": null,
      "min_width": null,
      "object_fit": null,
      "object_position": null,
      "order": null,
      "overflow": null,
      "overflow_x": null,
      "overflow_y": null,
      "padding": null,
      "right": null,
      "top": null,
      "visibility": null,
      "width": null
     }
    },
    "c7f026eac2474611b65d16ffb963011b": {
     "model_module": "@jupyter-widgets/controls",
     "model_name": "DatePickerModel",
     "state": {
      "_dom_classes": [],
      "_model_module": "@jupyter-widgets/controls",
      "_model_module_version": "1.5.0",
      "_model_name": "DatePickerModel",
      "_view_count": null,
      "_view_module": "@jupyter-widgets/controls",
      "_view_module_version": "1.5.0",
      "_view_name": "DatePickerView",
      "description": "Event Date",
      "description_tooltip": null,
      "disabled": false,
      "layout": "IPY_MODEL_fbb799fb7c104380a6075aed79c7cc73",
      "style": "IPY_MODEL_e98c5da30f4e47f5b5f38a89a249a5fb",
      "value": {
       "date": 12,
       "month": 1,
       "year": 2021
      }
     }
    },
    "e2a77e8de3dc40b5bb35e9bc077d7e7c": {
     "model_module": "@jupyter-widgets/controls",
     "model_name": "FileUploadModel",
     "state": {
      "_counter": 1,
      "_dom_classes": [],
      "_model_module": "@jupyter-widgets/controls",
      "_model_module_version": "1.5.0",
      "_model_name": "FileUploadModel",
      "_view_count": null,
      "_view_module": "@jupyter-widgets/controls",
      "_view_module_version": "1.5.0",
      "_view_name": "FileUploadView",
      "accept": ".zip",
      "button_style": "",
      "data": [
       null
      ],
      "description": "Upload",
      "description_tooltip": null,
      "disabled": false,
      "error": "",
      "icon": "upload",
      "layout": "IPY_MODEL_0324e346a28c4b64ad414cf15856b294",
      "metadata": [
       {
        "lastModified": 1615671159551,
        "name": "Tapovan.zip",
        "size": 1544,
        "type": "application/x-zip-compressed"
       }
      ],
      "multiple": false,
      "style": "IPY_MODEL_fccfff5ffa944f15ad93307441c71a19"
     }
    },
    "e660dbbec41048d4a0da33bd8bd0c112": {
     "model_module": "@jupyter-widgets/base",
     "model_name": "LayoutModel",
     "state": {
      "_model_module": "@jupyter-widgets/base",
      "_model_module_version": "1.2.0",
      "_model_name": "LayoutModel",
      "_view_count": null,
      "_view_module": "@jupyter-widgets/base",
      "_view_module_version": "1.2.0",
      "_view_name": "LayoutView",
      "align_content": null,
      "align_items": null,
      "align_self": null,
      "border": null,
      "bottom": null,
      "display": null,
      "flex": null,
      "flex_flow": null,
      "grid_area": null,
      "grid_auto_columns": null,
      "grid_auto_flow": null,
      "grid_auto_rows": null,
      "grid_column": null,
      "grid_gap": null,
      "grid_row": null,
      "grid_template_areas": null,
      "grid_template_columns": null,
      "grid_template_rows": null,
      "height": null,
      "justify_content": null,
      "justify_items": null,
      "left": null,
      "margin": null,
      "max_height": null,
      "max_width": null,
      "min_height": null,
      "min_width": null,
      "object_fit": null,
      "object_position": null,
      "order": null,
      "overflow": null,
      "overflow_x": null,
      "overflow_y": null,
      "padding": null,
      "right": null,
      "top": null,
      "visibility": null,
      "width": null
     }
    },
    "e98c5da30f4e47f5b5f38a89a249a5fb": {
     "model_module": "@jupyter-widgets/controls",
     "model_name": "DescriptionStyleModel",
     "state": {
      "_model_module": "@jupyter-widgets/controls",
      "_model_module_version": "1.5.0",
      "_model_name": "DescriptionStyleModel",
      "_view_count": null,
      "_view_module": "@jupyter-widgets/base",
      "_view_module_version": "1.2.0",
      "_view_name": "StyleView",
      "description_width": ""
     }
    },
    "f089680332ab4052a702c2ebcce6324a": {
     "model_module": "@jupyter-widgets/base",
     "model_name": "LayoutModel",
     "state": {
      "_model_module": "@jupyter-widgets/base",
      "_model_module_version": "1.2.0",
      "_model_name": "LayoutModel",
      "_view_count": null,
      "_view_module": "@jupyter-widgets/base",
      "_view_module_version": "1.2.0",
      "_view_name": "LayoutView",
      "align_content": null,
      "align_items": null,
      "align_self": null,
      "border": null,
      "bottom": null,
      "display": null,
      "flex": null,
      "flex_flow": null,
      "grid_area": null,
      "grid_auto_columns": null,
      "grid_auto_flow": null,
      "grid_auto_rows": null,
      "grid_column": null,
      "grid_gap": null,
      "grid_row": null,
      "grid_template_areas": null,
      "grid_template_columns": null,
      "grid_template_rows": null,
      "height": null,
      "justify_content": null,
      "justify_items": null,
      "left": null,
      "margin": null,
      "max_height": null,
      "max_width": null,
      "min_height": null,
      "min_width": null,
      "object_fit": null,
      "object_position": null,
      "order": null,
      "overflow": null,
      "overflow_x": null,
      "overflow_y": null,
      "padding": null,
      "right": null,
      "top": null,
      "visibility": null,
      "width": null
     }
    },
    "f232cbc2757d4b6bbd1349f71546d940": {
     "model_module": "@jupyter-widgets/controls",
     "model_name": "FloatProgressModel",
     "state": {
      "_dom_classes": [],
      "_model_module": "@jupyter-widgets/controls",
      "_model_module_version": "1.5.0",
      "_model_name": "FloatProgressModel",
      "_view_count": null,
      "_view_module": "@jupyter-widgets/controls",
      "_view_module_version": "1.5.0",
      "_view_name": "ProgressView",
      "bar_style": "success",
      "description": "Copying files: 100%",
      "description_tooltip": null,
      "layout": "IPY_MODEL_e660dbbec41048d4a0da33bd8bd0c112",
      "max": 3,
      "min": 0,
      "orientation": "horizontal",
      "style": "IPY_MODEL_73ce12fe703e45629679f0fc50ed58ae",
      "value": 3
     }
    },
    "f58e0c7647fb4b9fb26945081b8da6bc": {
     "model_module": "@jupyter-widgets/base",
     "model_name": "LayoutModel",
     "state": {
      "_model_module": "@jupyter-widgets/base",
      "_model_module_version": "1.2.0",
      "_model_name": "LayoutModel",
      "_view_count": null,
      "_view_module": "@jupyter-widgets/base",
      "_view_module_version": "1.2.0",
      "_view_name": "LayoutView",
      "align_content": null,
      "align_items": null,
      "align_self": null,
      "border": null,
      "bottom": null,
      "display": null,
      "flex": null,
      "flex_flow": null,
      "grid_area": null,
      "grid_auto_columns": null,
      "grid_auto_flow": null,
      "grid_auto_rows": null,
      "grid_column": null,
      "grid_gap": null,
      "grid_row": null,
      "grid_template_areas": null,
      "grid_template_columns": null,
      "grid_template_rows": null,
      "height": null,
      "justify_content": null,
      "justify_items": null,
      "left": null,
      "margin": null,
      "max_height": null,
      "max_width": null,
      "min_height": null,
      "min_width": null,
      "object_fit": null,
      "object_position": null,
      "order": null,
      "overflow": null,
      "overflow_x": null,
      "overflow_y": null,
      "padding": null,
      "right": null,
      "top": null,
      "visibility": null,
      "width": null
     }
    },
    "f68e429998fa45a28c5ca07afb35e128": {
     "model_module": "@jupyter-widgets/controls",
     "model_name": "HTMLModel",
     "state": {
      "_dom_classes": [],
      "_model_module": "@jupyter-widgets/controls",
      "_model_module_version": "1.5.0",
      "_model_name": "HTMLModel",
      "_view_count": null,
      "_view_module": "@jupyter-widgets/controls",
      "_view_module_version": "1.5.0",
      "_view_name": "HTMLView",
      "description": "",
      "description_tooltip": null,
      "layout": "IPY_MODEL_f089680332ab4052a702c2ebcce6324a",
      "placeholder": "​",
      "style": "IPY_MODEL_5d0c5340cd024427b6cebf9f9d4b3c79",
      "value": " 3/3 [05:02&lt;00:00, 100.83s/it]"
     }
    },
    "fbb799fb7c104380a6075aed79c7cc73": {
     "model_module": "@jupyter-widgets/base",
     "model_name": "LayoutModel",
     "state": {
      "_model_module": "@jupyter-widgets/base",
      "_model_module_version": "1.2.0",
      "_model_name": "LayoutModel",
      "_view_count": null,
      "_view_module": "@jupyter-widgets/base",
      "_view_module_version": "1.2.0",
      "_view_name": "LayoutView",
      "align_content": null,
      "align_items": null,
      "align_self": null,
      "border": null,
      "bottom": null,
      "display": null,
      "flex": null,
      "flex_flow": null,
      "grid_area": null,
      "grid_auto_columns": null,
      "grid_auto_flow": null,
      "grid_auto_rows": null,
      "grid_column": null,
      "grid_gap": null,
      "grid_row": null,
      "grid_template_areas": null,
      "grid_template_columns": null,
      "grid_template_rows": null,
      "height": null,
      "justify_content": null,
      "justify_items": null,
      "left": null,
      "margin": null,
      "max_height": null,
      "max_width": null,
      "min_height": null,
      "min_width": null,
      "object_fit": null,
      "object_position": null,
      "order": null,
      "overflow": null,
      "overflow_x": null,
      "overflow_y": null,
      "padding": null,
      "right": null,
      "top": null,
      "visibility": null,
      "width": null
     }
    },
    "fccfff5ffa944f15ad93307441c71a19": {
     "model_module": "@jupyter-widgets/controls",
     "model_name": "ButtonStyleModel",
     "state": {
      "_model_module": "@jupyter-widgets/controls",
      "_model_module_version": "1.5.0",
      "_model_name": "ButtonStyleModel",
      "_view_count": null,
      "_view_module": "@jupyter-widgets/base",
      "_view_module_version": "1.2.0",
      "_view_name": "StyleView",
      "button_color": null,
      "font_weight": ""
     }
    }
   }
  }
 },
 "nbformat": 4,
 "nbformat_minor": 4
}
